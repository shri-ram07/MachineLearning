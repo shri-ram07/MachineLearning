{
  "cells": [
    {
      "cell_type": "markdown",
      "metadata": {
        "id": "DJ0_ZUnO7l9W"
      },
      "source": [
        "# ***PyTorch***\n",
        "\n"
      ]
    },
    {
      "cell_type": "code",
      "execution_count": null,
      "metadata": {
        "id": "8I7H189ulFV_"
      },
      "outputs": [],
      "source": [
        "import torch"
      ]
    },
    {
      "cell_type": "code",
      "execution_count": null,
      "metadata": {
        "colab": {
          "base_uri": "https://localhost:8080/",
          "height": 141
        },
        "id": "scnDF6BblPJO",
        "outputId": "c206180e-9f61-4ca0-c8cd-d73bf60aec1f"
      },
      "outputs": [],
      "source": [
        "torch.cuda.is_available()"
      ]
    },
    {
      "cell_type": "code",
      "execution_count": null,
      "metadata": {
        "colab": {
          "base_uri": "https://localhost:8080/"
        },
        "id": "zHc84gNalVsE",
        "outputId": "ac7e9f43-437a-4511-f117-2f1408f50017"
      },
      "outputs": [
        {
          "name": "stdout",
          "output_type": "stream",
          "text": [
            "Tesla T4\n"
          ]
        }
      ],
      "source": [
        "print(torch.cuda.get_device_name())"
      ]
    },
    {
      "cell_type": "code",
      "execution_count": null,
      "metadata": {
        "id": "1abfo4_RlfxV"
      },
      "outputs": [],
      "source": [
        "import numpy as np"
      ]
    },
    {
      "cell_type": "code",
      "execution_count": null,
      "metadata": {
        "id": "nV3pA1COlj30"
      },
      "outputs": [],
      "source": [
        "#TENSOR AND SOME OPERATIONS\n",
        "x = torch.rand(3,3)"
      ]
    },
    {
      "cell_type": "code",
      "execution_count": null,
      "metadata": {
        "colab": {
          "base_uri": "https://localhost:8080/"
        },
        "id": "xe8yFGfRl1Qq",
        "outputId": "3d4965bc-1229-449b-c91a-9e13afbc5798"
      },
      "outputs": [
        {
          "data": {
            "text/plain": [
              "torch.Size([3, 3])"
            ]
          },
          "execution_count": 6,
          "metadata": {},
          "output_type": "execute_result"
        }
      ],
      "source": [
        "x.size()"
      ]
    },
    {
      "cell_type": "code",
      "execution_count": null,
      "metadata": {
        "colab": {
          "base_uri": "https://localhost:8080/"
        },
        "id": "FVxsJSarl3RM",
        "outputId": "c1ef0224-28ab-4418-c8b1-8e8c6a5ea199"
      },
      "outputs": [
        {
          "data": {
            "text/plain": [
              "tensor([[0.3035, 0.7667, 0.5050],\n",
              "        [0.0415, 0.9045, 0.0778],\n",
              "        [0.0913, 0.8962, 0.0334]])"
            ]
          },
          "execution_count": 7,
          "metadata": {},
          "output_type": "execute_result"
        }
      ],
      "source": [
        "x"
      ]
    },
    {
      "cell_type": "code",
      "execution_count": null,
      "metadata": {
        "colab": {
          "base_uri": "https://localhost:8080/"
        },
        "id": "6vupGgsPl9wL",
        "outputId": "32a480f6-0d8e-4782-975f-6b67d12af59e"
      },
      "outputs": [
        {
          "name": "stdout",
          "output_type": "stream",
          "text": [
            "Ones function will generate only one as a element \n",
            " \n",
            " tensor([[1., 1.],\n",
            "        [1., 1.]]) \n",
            " \n",
            " Same for zeors \n",
            " \n",
            " tensor([[0., 0.],\n",
            "        [0., 0.]])  \n",
            " \n",
            " .rand will generate random numbers with a given dimenssion \n",
            " \n",
            " tensor([[0.6742, 0.3762],\n",
            "        [0.4606, 0.0335]]) \n",
            " \n",
            " , .arange will generate in a ceratin range with given steps \n",
            " \n",
            " tensor([1, 2, 3, 4, 5, 6, 7, 8, 9]) \n",
            " \n",
            " and , .tensor can be used to create a tensor by and list or arrays \n",
            " \n",
            " tensor([1, 2, 3, 4, 5, 6, 7])\n"
          ]
        }
      ],
      "source": [
        "print(f\"Ones function will generate only one as a element \\n \\n {torch.ones(2,2)} \\n \\n Same for zeors \\n \\n {torch.zeros(2,2)}  \\n \\n .rand will generate random numbers with a given dimenssion \\n \\n {torch.rand(2,2)} \\n \\n , .arange will generate in a ceratin range with given steps \\n \\n {torch.arange(1,10 )} \\n \\n and , .tensor can be used to create a tensor by and list or arrays \\n \\n {torch.tensor([1,2,3,4,5,6,7])}\" )"
      ]
    },
    {
      "cell_type": "code",
      "execution_count": null,
      "metadata": {
        "id": "Z4RUT0VQl6Kx"
      },
      "outputs": [],
      "source": [
        "y = np.random.rand(3,3)"
      ]
    },
    {
      "cell_type": "code",
      "execution_count": null,
      "metadata": {
        "colab": {
          "base_uri": "https://localhost:8080/"
        },
        "id": "cDfUoYY-pNAD",
        "outputId": "de0dd5de-ef6a-49e4-bfbc-4f6191e430c3"
      },
      "outputs": [
        {
          "data": {
            "text/plain": [
              "array([[0.80143698, 0.07280508, 0.73898993],\n",
              "       [0.12306541, 0.06445327, 0.63987317],\n",
              "       [0.40235994, 0.48981652, 0.70747925]])"
            ]
          },
          "execution_count": 10,
          "metadata": {},
          "output_type": "execute_result"
        }
      ],
      "source": [
        "y"
      ]
    },
    {
      "cell_type": "code",
      "execution_count": null,
      "metadata": {
        "colab": {
          "base_uri": "https://localhost:8080/"
        },
        "id": "3RXPt5aXpP0e",
        "outputId": "3b39bba9-95fd-4b15-c562-22a1de127b47"
      },
      "outputs": [
        {
          "name": "stdout",
          "output_type": "stream",
          "text": [
            "tensor([[0.8014, 0.0728, 0.7390],\n",
            "        [0.1231, 0.0645, 0.6399],\n",
            "        [0.4024, 0.4898, 0.7075]], dtype=torch.float64)\n"
          ]
        }
      ],
      "source": [
        "#convert y to tensor\n",
        "x = torch.from_numpy(y)\n",
        "print(x)"
      ]
    },
    {
      "cell_type": "code",
      "execution_count": null,
      "metadata": {
        "id": "tmmivSmrDTy4"
      },
      "outputs": [],
      "source": [
        "a = np.arange(10)"
      ]
    },
    {
      "cell_type": "code",
      "execution_count": null,
      "metadata": {
        "colab": {
          "base_uri": "https://localhost:8080/"
        },
        "id": "qdAHruSEDXnF",
        "outputId": "18d2c76f-1aca-4d64-c9d1-27d365233ffe"
      },
      "outputs": [
        {
          "data": {
            "text/plain": [
              "array([0, 1, 2, 3, 4, 5, 6, 7, 8, 9])"
            ]
          },
          "execution_count": 13,
          "metadata": {},
          "output_type": "execute_result"
        }
      ],
      "source": [
        "a"
      ]
    },
    {
      "cell_type": "code",
      "execution_count": null,
      "metadata": {
        "id": "h_wOtZByDYt0"
      },
      "outputs": [],
      "source": [
        "b = torch.rand(1,10)"
      ]
    },
    {
      "cell_type": "code",
      "execution_count": null,
      "metadata": {
        "colab": {
          "base_uri": "https://localhost:8080/"
        },
        "id": "9d1LhBcnDjDt",
        "outputId": "78b3eb1d-9f70-4844-9267-5eceac2d5518"
      },
      "outputs": [
        {
          "data": {
            "text/plain": [
              "tensor([[0.1354, 0.6506, 0.3886, 0.5585, 0.9173, 0.5654, 0.6666, 0.1433, 0.1222,\n",
              "         0.9678]])"
            ]
          },
          "execution_count": 15,
          "metadata": {},
          "output_type": "execute_result"
        }
      ],
      "source": [
        "b"
      ]
    },
    {
      "cell_type": "code",
      "execution_count": null,
      "metadata": {
        "colab": {
          "base_uri": "https://localhost:8080/"
        },
        "id": "J4E6sPurDlId",
        "outputId": "17513633-ad0a-48c7-90ed-5d7ff5a57ae7"
      },
      "outputs": [
        {
          "name": "stdout",
          "output_type": "stream",
          "text": [
            "tensor([0.1354, 0.6506, 0.3886, 0.5585, 0.9173, 0.5654, 0.6666, 0.1433, 0.1222,\n",
            "        0.9678])\n"
          ]
        }
      ],
      "source": [
        "#tensor slicing\n",
        "print(b[0,:])"
      ]
    },
    {
      "cell_type": "code",
      "execution_count": null,
      "metadata": {
        "colab": {
          "base_uri": "https://localhost:8080/"
        },
        "id": "5cTT2jyZD9B3",
        "outputId": "646cb6ad-e0a0-4527-b011-9c94ba0f1b67"
      },
      "outputs": [
        {
          "data": {
            "text/plain": [
              "0.6665869951248169"
            ]
          },
          "execution_count": 17,
          "metadata": {},
          "output_type": "execute_result"
        }
      ],
      "source": [
        "b[0,6].item()"
      ]
    },
    {
      "cell_type": "code",
      "execution_count": null,
      "metadata": {
        "id": "K4JzxTFoEGzi"
      },
      "outputs": [],
      "source": [
        "#resizing a torch tensor\n",
        "\n",
        "b = b.view(-1,2)"
      ]
    },
    {
      "cell_type": "code",
      "execution_count": null,
      "metadata": {
        "colab": {
          "base_uri": "https://localhost:8080/"
        },
        "id": "T-O7sCNeEQck",
        "outputId": "a39641c9-62c5-42f8-e29c-dac78ba503db"
      },
      "outputs": [
        {
          "data": {
            "text/plain": [
              "tensor([[0.1354, 0.6506],\n",
              "        [0.3886, 0.5585],\n",
              "        [0.9173, 0.5654],\n",
              "        [0.6666, 0.1433],\n",
              "        [0.1222, 0.9678]])"
            ]
          },
          "execution_count": 19,
          "metadata": {},
          "output_type": "execute_result"
        }
      ],
      "source": [
        "#-1 for automatic selection\n",
        "b"
      ]
    },
    {
      "cell_type": "code",
      "execution_count": null,
      "metadata": {
        "colab": {
          "base_uri": "https://localhost:8080/"
        },
        "id": "VFaCeseGEV37",
        "outputId": "765fe0fb-a67d-4f6e-d981-bb3f30083135"
      },
      "outputs": [
        {
          "name": "stdout",
          "output_type": "stream",
          "text": [
            "<class 'torch.Tensor'>\n",
            "<class 'numpy.ndarray'>\n"
          ]
        }
      ],
      "source": [
        "#Conversion of tensor to np array and vice versa\n",
        "a = np.arange(0,16).reshape(4,4)\n",
        "b = torch.arange(0,10).view(2,5)\n",
        "\n",
        "a = torch.from_numpy(a)  #now it is tensor\n",
        "b = b.numpy()  #Now it is Numpy array\n",
        "\n",
        "print(type(a))\n",
        "\n",
        "print(type(b))"
      ]
    },
    {
      "cell_type": "code",
      "execution_count": null,
      "metadata": {
        "colab": {
          "base_uri": "https://localhost:8080/",
          "height": 139
        },
        "id": "BmuaCF0cFuiN",
        "outputId": "af9870e0-2c51-4f29-846c-87f908c124de"
      },
      "outputs": [
        {
          "name": "stdout",
          "output_type": "stream",
          "text": [
            "cpu\n",
            "cpu\n",
            "cuda:0\n",
            "cpu\n",
            "[0. 0. 0.]\n",
            "tensor([1., 1., 1.], device='cuda:0', dtype=torch.float64)\n"
          ]
        },
        {
          "data": {
            "application/vnd.google.colaboratory.intrinsic+json": {
              "type": "string"
            },
            "text/plain": [
              "\"cuda:0\\ncpu\\n[0. 0. 0.]\\ntensor([1., 1., 1.], device='cuda:0', dtype=torch.float64)\""
            ]
          },
          "execution_count": 21,
          "metadata": {},
          "output_type": "execute_result"
        }
      ],
      "source": [
        "#if numpy array and tensor are in same cpu or gpu then all the data will be saved in same location if we convert it to another\n",
        "a = np.zeros(3)\n",
        "b = torch.from_numpy(a)\n",
        "print(a.device)\n",
        "print(b.device)\n",
        "\n",
        "\"\"\"b.add_(2)\n",
        "print(a)\n",
        "print(b)\n",
        "cpu\n",
        "cpu\n",
        "[2. 2. 2.]\n",
        "tensor([2., 2., 2.], dtype=torch.float64)\"\"\"\n",
        "#here we have only added 2 in tensor but as you can see in the output , it has also updated the values of numpy array also\n",
        "#So for this we have to store in different different locations\n",
        "\n",
        "b = torch.from_numpy(a).to(\"cuda\")    #we can also use device attribute while declaring a tensor and .to is used to move from one device to another\n",
        "print(b.device)\n",
        "print(a.device)\n",
        "\n",
        "b.add_(1)\n",
        "print(a)\n",
        "print(b)\n",
        "\n",
        "\"\"\"cuda:0\n",
        "cpu\n",
        "[0. 0. 0.]\n",
        "tensor([1., 1., 1.], device='cuda:0', dtype=torch.float64)\"\"\"\n",
        "\n",
        "#and also we can not convert GPU tensors to numpy array so for that first we have to move it from gpu to cpu"
      ]
    },
    {
      "cell_type": "code",
      "execution_count": null,
      "metadata": {
        "id": "53JdC_jVHROK"
      },
      "outputs": [],
      "source": [
        "#requires_grad parameter\n",
        "# used to help in finding the gradient of that tensor so we have to make it trure while intializing tensor\n",
        "x = torch.tensor([1.,2.,3.,4.] , requires_grad= True)"
      ]
    },
    {
      "cell_type": "code",
      "execution_count": null,
      "metadata": {
        "colab": {
          "base_uri": "https://localhost:8080/"
        },
        "id": "2ztwXOjoInaA",
        "outputId": "3c758330-3e5c-4569-c2c5-514ca173618e"
      },
      "outputs": [
        {
          "name": "stdout",
          "output_type": "stream",
          "text": [
            "tensor([-0.7917,  0.9544, -1.3850, -0.9299,  1.0775,  0.2821,  0.2183,  0.2462,\n",
            "        -0.1998,  1.7824], requires_grad=True)\n"
          ]
        }
      ],
      "source": [
        "#Auto Gradient in torch\n",
        "\n",
        "x = torch.randn(10 , requires_grad=True)\n",
        "print(x)"
      ]
    },
    {
      "cell_type": "code",
      "execution_count": null,
      "metadata": {
        "colab": {
          "base_uri": "https://localhost:8080/"
        },
        "id": "R_zG5bZeI80N",
        "outputId": "f5124787-8612-4871-ef65-477a23a690af"
      },
      "outputs": [
        {
          "name": "stdout",
          "output_type": "stream",
          "text": [
            "tensor([1.2083, 2.9544, 0.6150, 1.0701, 3.0775, 2.2821, 2.2183, 2.2462, 1.8002,\n",
            "        3.7824], grad_fn=<AddBackward0>)\n"
          ]
        }
      ],
      "source": [
        "y = x+2\n",
        "print(y)\n",
        "#we will get a grad_fn"
      ]
    },
    {
      "cell_type": "code",
      "execution_count": null,
      "metadata": {
        "colab": {
          "base_uri": "https://localhost:8080/"
        },
        "id": "9lCRbndGJswl",
        "outputId": "35ba0008-7b41-4917-e565-0ea53dc8987a"
      },
      "outputs": [
        {
          "name": "stdout",
          "output_type": "stream",
          "text": [
            "tensor([0.1000, 0.1000, 0.1000, 0.1000, 0.1000, 0.1000, 0.1000, 0.1000, 0.1000,\n",
            "        0.1000])\n"
          ]
        }
      ],
      "source": [
        "#we can calculate gradiend directly by using .backward function\n",
        "# When y is not a scalar, you need to provide a gradient argument to y.backward()\n",
        "# or convert y to a scalar before calling backward().\n",
        "# Calculating the mean of y is a common way to get a scalar value\n",
        "# so that you can compute the gradient of the mean with respect to the input tensor x.\n",
        "# y_scalar.backward() computes the gradient of y_scalar (the mean of y) with respect to x.\n",
        "y = y.mean()\n",
        "y.backward()\n",
        "print(x.grad)\n",
        "\n",
        "#if y.mean is not given then we have to use y.backward(torch.ones_like(y , dtype = torch.float32))"
      ]
    },
    {
      "cell_type": "code",
      "execution_count": null,
      "metadata": {
        "colab": {
          "base_uri": "https://localhost:8080/",
          "height": 35
        },
        "id": "DJ3RZ5nzLQU9",
        "outputId": "352ffa10-713d-4620-c807-418f915ffcf5"
      },
      "outputs": [
        {
          "data": {
            "application/vnd.google.colaboratory.intrinsic+json": {
              "type": "string"
            },
            "text/plain": [
              "'x.requires_grad_(False)\\nx.detach()\\nwith torch.no_grad():'"
            ]
          },
          "execution_count": 26,
          "metadata": {},
          "output_type": "execute_result"
        }
      ],
      "source": [
        "#we can also deactivate the gradient tracking by using\n",
        "\"\"\"x.requires_grad_(False)\n",
        "x.detach()\n",
        "with torch.no_grad():\"\"\""
      ]
    },
    {
      "cell_type": "code",
      "execution_count": null,
      "metadata": {
        "id": "t4gYgpUzMeCZ"
      },
      "outputs": [],
      "source": [
        "# y.grad has all the grad stored in tensor format but requires_grad must be true for that object\n"
      ]
    },
    {
      "cell_type": "markdown",
      "metadata": {
        "id": "DEvP8125Nz__"
      },
      "source": [
        "# ***BACKPROPAGATION***"
      ]
    },
    {
      "cell_type": "code",
      "execution_count": null,
      "metadata": {
        "colab": {
          "base_uri": "https://localhost:8080/"
        },
        "id": "lcfaRU9LNo45",
        "outputId": "b1f477b6-3b33-4e75-dbf4-8f664e3e42d0"
      },
      "outputs": [
        {
          "name": "stdout",
          "output_type": "stream",
          "text": [
            "tensor(1., grad_fn=<PowBackward0>)\n",
            "tensor(-2.)\n"
          ]
        }
      ],
      "source": [
        "#for simple linera regression\n",
        "x = torch.tensor(1.0)\n",
        "y = torch.tensor(2.0)\n",
        "\n",
        "w = torch.tensor(1.0 , requires_grad=True)\n",
        "\n",
        "#forward Pass\n",
        "y_pred = w * x\n",
        "loss = (y_pred - y)**2\n",
        "\n",
        "print(loss)\n",
        "#tensor(1., grad_fn=<PowBackward0>)\n",
        "\n",
        "#backward Pass\n",
        "loss.backward()\n",
        "print(w.grad)  #first gradient\n",
        "\n",
        "\n",
        "\n",
        "#update weight by using optimizers and optimizer.step() function\n",
        "\n",
        "##we wil do many such forward and backward pass until we get minimun loss\n"
      ]
    },
    {
      "cell_type": "markdown",
      "metadata": {
        "id": "hYi6m954cFPj"
      },
      "source": [
        "# ***Gradient Descent Using AutoGrad***"
      ]
    },
    {
      "cell_type": "code",
      "execution_count": null,
      "metadata": {
        "id": "eBIUidpXcMCr"
      },
      "outputs": [],
      "source": [
        "import numpy as np\n"
      ]
    },
    {
      "cell_type": "code",
      "execution_count": null,
      "metadata": {
        "id": "w6dVCGr7ctoO"
      },
      "outputs": [],
      "source": [
        "#linear regression y = w * x\n",
        "\n",
        "x = torch.tensor([1,2,3,4] , dtype = torch.float32)\n",
        "y = torch.tensor([2,4,6,8] , dtype = torch.float32)"
      ]
    },
    {
      "cell_type": "code",
      "execution_count": null,
      "metadata": {
        "id": "E75D_5pqjzrh"
      },
      "outputs": [],
      "source": [
        "w = torch.tensor(0.0 , dtype = torch.float32 , requires_grad = True)\n"
      ]
    },
    {
      "cell_type": "code",
      "execution_count": null,
      "metadata": {
        "colab": {
          "base_uri": "https://localhost:8080/"
        },
        "id": "unjoq6HCdRJO",
        "outputId": "09cacaf9-b773-4957-f67a-d96d5de65ba9"
      },
      "outputs": [
        {
          "name": "stdout",
          "output_type": "stream",
          "text": [
            "Prediction Before Training : f(2) =  0.000\n",
            "epoch 1 , w = 0.300 , loss = 30.00000000\n",
            "epoch 2 , w = 0.555 , loss = 21.67499924\n",
            "Prediction After Training : f(2) =  55499995217920.000\n"
          ]
        }
      ],
      "source": [
        "\n",
        "\n",
        "\n",
        "#model prediction\n",
        "\n",
        "def forward(x):\n",
        "  return w * x\n",
        "\n",
        "#loss MSE\n",
        "\n",
        "def loss(y , y_pred):\n",
        "  return ((y_pred - y)**2).mean()\n",
        "\n",
        "\"\"\"#gradient\n",
        "#MSE = 1 / N * (loss)\n",
        "# dl / dw = 1/N 2x (w * x - y)\n",
        "def gradient(x , y , y_pred):\n",
        "  return np.dot(2*x , y_pred - y).mean()\"\"\"\n",
        "\n",
        "\n",
        "print(f\"Prediction Before Training : f(2) = {forward(2) : .3f}\")\n",
        "\n",
        "#training\n",
        "\n",
        "learning_rate = 0.01\n",
        "n_iter = 2\n",
        "\n",
        "for epoch in range(n_iter):\n",
        "  y_pred = forward(x)\n",
        "  l = loss(y , y_pred)\n",
        "  #gradient = backward()\n",
        "  l.backward()\n",
        "  grad = w.grad\n",
        "\n",
        "\n",
        "\n",
        "\n",
        "  #update our weights\n",
        "  with torch.no_grad():\n",
        "    # Use in-place operation to update w\n",
        "    w-= learning_rate * grad # Correct update\n",
        "\n",
        "  #reinitialize grad tp zero\n",
        "  grad.zero_()\n",
        "\n",
        "  print(f\"epoch {epoch + 1} , w = {w:.3f} , loss = {l:.8f}\")\n",
        "\n",
        "print(f\"Prediction After Training : f(2) = {forward(100000000000000) : .3f}\")"
      ]
    },
    {
      "cell_type": "markdown",
      "metadata": {
        "id": "qpiAUQEormos"
      },
      "source": [
        "# ***Loss & Optimizer Class in PyTorch***"
      ]
    },
    {
      "cell_type": "code",
      "execution_count": null,
      "metadata": {
        "id": "vMw5TanJrvyt"
      },
      "outputs": [],
      "source": [
        "#Training Pipeline\n",
        "\n",
        "# 1) Design model (input , output size , forward pass))\n",
        "# 2) Construct loss and optimizer\n",
        "# 3) Training lopp\n",
        "#   - Forward pass : Prediction\n",
        "#   - backward pass : gradient calaculation\n",
        "#   - update weights"
      ]
    },
    {
      "cell_type": "code",
      "execution_count": null,
      "metadata": {
        "id": "oJsk__5asWKg"
      },
      "outputs": [],
      "source": [
        "import torch.nn as nn\n",
        "import torch.optim as optim"
      ]
    },
    {
      "cell_type": "code",
      "execution_count": null,
      "metadata": {
        "colab": {
          "base_uri": "https://localhost:8080/"
        },
        "id": "2rjp-aOwstLT",
        "outputId": "8f3763a1-05a1-4809-f68e-1243e0881bf2"
      },
      "outputs": [
        {
          "name": "stdout",
          "output_type": "stream",
          "text": [
            "4 1\n",
            "Prediction Before Training : f(2) = -4.534\n",
            "epoch 1 , w = -0.390 , b = -0.219 , loss = 65.55545044\n",
            "epoch 2 , w = -0.020 , b = -0.095 , loss = 45.50182343\n",
            "epoch 3 , w = 0.287 , b = 0.008 , loss = 31.58695030\n",
            "epoch 4 , w = 0.544 , b = 0.093 , loss = 21.93162537\n",
            "epoch 5 , w = 0.758 , b = 0.164 , loss = 15.23191833\n",
            "epoch 6 , w = 0.936 , b = 0.223 , loss = 10.58304787\n",
            "epoch 7 , w = 1.084 , b = 0.272 , loss = 7.35721207\n",
            "epoch 8 , w = 1.208 , b = 0.312 , loss = 5.11879063\n",
            "epoch 9 , w = 1.311 , b = 0.345 , loss = 3.56551456\n",
            "epoch 10 , w = 1.397 , b = 0.373 , loss = 2.48764658\n",
            "Prediction After Training : f(5) =  7.359\n"
          ]
        }
      ],
      "source": [
        "\n",
        "#linear regression y = w * x\n",
        "\n",
        "# Initialize input (x) and output (y) tensors\n",
        "# Tensors are shaped as (batch_size, input_features) and (batch_size, output_features)\n",
        "# to be compatible with PyTorch's nn.Linear module, which expects batched input.\n",
        "# Here, batch_size = 4 and input/output_features = 1.\n",
        "x = torch.tensor([[1],[2],[3],[4]] , dtype = torch.float32)\n",
        "y = torch.tensor([[2],[4],[6],[8]] , dtype = torch.float32)\n",
        "x_test = torch.tensor([5], dtype = torch.float32)\n",
        "n_samples , n_features = x.shape\n",
        "print(n_samples , n_features)\n",
        "\"\"\"\n",
        "here we do not need weights and forward to initialize because\n",
        "pytorch itself handle this\n",
        "w = torch.tensor(0.0 , dtype = torch.float32 , requires_grad = True)\n",
        "\n",
        "\n",
        "#model prediction\n",
        "\n",
        "def forward(x):\n",
        "  return w * x\"\"\"\n",
        "input_size , op_size = n_features , n_features\n",
        "#model = nn.Linear(input_size , op_size)\n",
        "\n",
        "# we can also design a model\n",
        "class LinearReg(nn.Module):\n",
        "  def __init__(self , input_dim  , output_dim):\n",
        "    super(LinearReg , self).__init__()\n",
        "    self.layer = nn.Linear(input_dim , output_dim)\n",
        "\n",
        "  def forward(self , x):\n",
        "    return self.layer(x)\n",
        "model = LinearReg(input_size , op_size)\n",
        "#loss MSE\n",
        "loss = nn.MSELoss()\n",
        "\"\"\"\n",
        "def loss(y , y_pred):\n",
        "  return ((y_pred - y)**2).mean()\"\"\"\n",
        "\n",
        "\"\"\"#gradient\n",
        "#MSE = 1 / N * (loss)\n",
        "# dl / dw = 1/N 2x (w * x - y)\n",
        "def gradient(x , y , y_pred):\n",
        "  return np.dot(2*x , y_pred - y).mean()\"\"\"\n",
        "\n",
        "\n",
        "print(f\"Prediction Before Training : f(2) = {model(x_test).item() : .3f}\")\n",
        "\n",
        "#training\n",
        "\n",
        "learning_rate = 0.01\n",
        "n_iter = 10\n",
        "\n",
        "#for automatic weights update\n",
        "optimzer = optim.SGD(model.parameters() , lr=learning_rate)\n",
        "for epoch in range(n_iter):\n",
        "  y_pred = model(x)\n",
        "  l = loss(y , y_pred)\n",
        "  #gradient = backward()\n",
        "  l.backward()\n",
        "\n",
        "  #update wights\n",
        "  optimzer.step()\n",
        "  #reinitialize grad tp zero\n",
        "  optimzer.zero_grad()\n",
        "\n",
        "\n",
        "  [w , b] = model.parameters()\n",
        "  print(f\"epoch {epoch + 1} , w = {w.item():.3f} , b = {b.item():.3f} , loss = {l.item():.8f}\")\n",
        "\n",
        "print(f\"Prediction After Training : f(5) = {model(x_test).item() : .3f}\")"
      ]
    },
    {
      "cell_type": "markdown",
      "metadata": {
        "id": "_DV3tl5e7cj0"
      },
      "source": [
        "# ***Linear Regression***"
      ]
    },
    {
      "cell_type": "code",
      "execution_count": null,
      "metadata": {
        "colab": {
          "base_uri": "https://localhost:8080/",
          "height": 482
        },
        "id": "jLscVrm07gin",
        "outputId": "2162b406-cf4e-47f7-ad08-eaba3c81e5f6"
      },
      "outputs": [
        {
          "name": "stdout",
          "output_type": "stream",
          "text": [
            "Epochs : 10 , loss : 3094.6184\n",
            "Epochs : 20 , loss : 1632.5621\n",
            "Epochs : 30 , loss : 1083.9036\n"
          ]
        },
        {
          "data": {
            "image/png": "[encoded data removed]",
            "text/plain": [
              "<Figure size 640x480 with 1 Axes>"
            ]
          },
          "metadata": {},
          "output_type": "display_data"
        }
      ],
      "source": [
        "import torch\n",
        "import torch.nn as nn\n",
        "import numpy as np\n",
        "from sklearn import datasets\n",
        "import matplotlib.pyplot as plt\n",
        "import torch.optim as optim\n",
        "#Step 0 - Prepare data\n",
        "x_numpy , y_numpy = datasets.make_regression(n_samples=100 , n_features=1 , noise=30 , random_state=1)\n",
        "\n",
        "#convert it to tensor\n",
        "x = torch.from_numpy(x_numpy.astype(np.float32))\n",
        "y = torch.from_numpy(y_numpy.astype(np.float32))\n",
        "y = y.view(y.shape[0] , 1)\n",
        "\n",
        "n_samples , n_features = x.shape\n",
        "\n",
        "#\n",
        "#Step 1 - Model Design\n",
        "\n",
        "\n",
        "class Linear(nn.Module):\n",
        "  def __init__(self , input_dim , output_dim):\n",
        "    super(Linear , self).__init__()\n",
        "    self.layer = nn.Linear(input_dim , output_dim)\n",
        "\n",
        "  def forward(self , x):\n",
        "    return self.layer(x)\n",
        "output_size = 1\n",
        "model = Linear(n_features , output_size)\n",
        "\n",
        "\n",
        "\n",
        "#Step 2 - Loss and Optimizer\n",
        "loss = nn.MSELoss()\n",
        "optimz = optim.SGD(model.parameters(), lr=0.03)\n",
        "\n",
        "\n",
        "#Step 3 - Training\n",
        "epochs = 30\n",
        "for epoch in range(epochs):\n",
        "  #FB\n",
        "  y_pred = model(x)\n",
        "\n",
        "  #loss\n",
        "  loss_ = loss(y_pred , y)\n",
        "\n",
        "  #BP\n",
        "  loss_.backward()\n",
        "\n",
        "  #update\n",
        "  optimz.step()\n",
        "\n",
        "  #making grad 0\n",
        "  optimz.zero_grad()\n",
        "\n",
        "  if (epoch+1)%10 == 0:\n",
        "    print(f\"Epochs : {epoch+1} , loss : {loss_.item():.4f}\")\n",
        "\n",
        "#plot\n",
        "predicted = model(x).detach()   #detach grad calculation\n",
        "plt.plot(x_numpy , y_numpy , 'ro')\n",
        "plt.plot(x_numpy , predicted , 'b')\n",
        "plt.show()"
      ]
    },
    {
      "cell_type": "markdown",
      "metadata": {
        "id": "puAuF8dZDbUQ"
      },
      "source": [
        "## ***Logistic Regression***"
      ]
    },
    {
      "cell_type": "code",
      "execution_count": null,
      "metadata": {
        "colab": {
          "base_uri": "https://localhost:8080/"
        },
        "id": "UFeHSULdDayG",
        "outputId": "52801994-f86a-4f40-f51e-1220adb543b3"
      },
      "outputs": [
        {
          "name": "stdout",
          "output_type": "stream",
          "text": [
            "Epochs : 100 , loss : 0.2348\n",
            "Epochs : 200 , loss : 0.1704\n",
            "Epochs : 300 , loss : 0.1422\n",
            "Epochs : 400 , loss : 0.1254\n",
            "Epochs : 500 , loss : 0.1142\n",
            "Epochs : 600 , loss : 0.1059\n",
            "Epochs : 700 , loss : 0.0996\n",
            "Epochs : 800 , loss : 0.0945\n",
            "Epochs : 900 , loss : 0.0903\n",
            "Epochs : 1000 , loss : 0.0868\n",
            "Accuracy : 0.9386\n"
          ]
        }
      ],
      "source": [
        "import torch\n",
        "import torch.nn as nn\n",
        "import numpy as np\n",
        "from sklearn import datasets\n",
        "from sklearn.preprocessing import StandardScaler\n",
        "from sklearn.model_selection import train_test_split\n",
        "import torch.optim as optim\n",
        "import matplotlib.pyplot as plt\n",
        "\n",
        "\n",
        "#Step 0 - Prepare data\n",
        "db = datasets.load_breast_cancer()\n",
        "x_numpy , y_numpy = db.data , db.target\n",
        "\n",
        "#train_test_split\n",
        "x_train , x_test , y_train , y_test = train_test_split(x_numpy , y_numpy , test_size=0.2 , random_state=1234)\n",
        "\n",
        "#Sacle out Features\n",
        "sc = StandardScaler()\n",
        "x_train = sc.fit_transform(x_train)\n",
        "x_test = sc.transform(x_test)\n",
        "\n",
        "\n",
        "#convert it to tensor\n",
        "x_train = torch.from_numpy(x_train.astype(np.float32))\n",
        "x_test = torch.from_numpy(x_test.astype(np.float32))\n",
        "y_train = torch.from_numpy(y_train.astype(np.float32))\n",
        "y_test = torch.from_numpy(y_test.astype(np.float32))\n",
        "\n",
        "y_train = y_train.view(y_train.shape[0] , 1)\n",
        "y_test = y_test.view(y_test.shape[0] , 1)\n",
        "\n",
        "n_samples , n_features = x_train.shape\n",
        "\n",
        "\n",
        "#Step 1 - Model Design\n",
        "\n",
        "# Logistic Regression Model\n",
        "class Log_Reg(nn.Module):\n",
        "  def __init__(self , input_dim , output_dim):\n",
        "    super(Log_Reg , self).__init__()\n",
        "    # Logistic Regression is a linear layer followed by a sigmoid activation\n",
        "    self.linear = nn.Linear(input_dim , output_dim)\n",
        "\n",
        "  def forward(self , x):\n",
        "    # Apply linear transformation and then sigmoid activation\n",
        "    return torch.sigmoid(self.linear(x))\n",
        "\n",
        "model = Log_Reg(n_features , 1)\n",
        "\n",
        "\n",
        "\n",
        "#Step 2 - Loss and Optimizer\n",
        "# BCELoss is used for binary classification with sigmoid output\n",
        "loss = nn.BCELoss()\n",
        "optimz = optim.SGD(model.parameters(), lr=0.01) # Reduced learning rate for stability\n",
        "\n",
        "\n",
        "#Step 3 - Training\n",
        "epochs = 1000 # Increased epochs for better convergence\n",
        "for epoch in range(epochs):\n",
        "  #FB\n",
        "  y_pred = model(x_train)\n",
        "\n",
        "  #loss\n",
        "  loss_ = loss(y_pred , y_train)\n",
        "\n",
        "  #BP\n",
        "  loss_.backward()\n",
        "\n",
        "  #update\n",
        "  optimz.step()\n",
        "\n",
        "  #making grad 0\n",
        "  optimz.zero_grad()\n",
        "\n",
        "  if (epoch+1)%100 == 0: # Print less frequently for many epochs\n",
        "    print(f\"Epochs : {epoch+1} , loss : {loss_.item():.4f}\")\n",
        "\n",
        "\n",
        "#Evaluation\n",
        "with torch.no_grad():\n",
        "  pred = model(x_test)\n",
        "  pred = pred.round() # Round predictions to 0 or 1\n",
        "  correct = (pred == y_test).sum().item() # Count correct predictions\n",
        "  acc = correct / y_test.shape[0] # Calculate accuracy\n",
        "  print(f\"Accuracy : {acc:.4f}\")\n"
      ]
    },
    {
      "cell_type": "markdown",
      "metadata": {
        "id": "nctT0gHyKOcK"
      },
      "source": [
        "# ***DataSet and DataLoader***"
      ]
    },
    {
      "cell_type": "code",
      "execution_count": null,
      "metadata": {
        "colab": {
          "base_uri": "https://localhost:8080/",
          "height": 139
        },
        "id": "Kuf9LRsMKT5I",
        "outputId": "01e66b4e-16c6-498d-e190-bcbe489b9b89"
      },
      "outputs": [
        {
          "data": {
            "application/vnd.google.colaboratory.intrinsic+json": {
              "type": "string"
            },
            "text/plain": [
              "\"\\nUnderstanding Training Concepts: Epoch, Batch, and Iteration\\n\\nEpoch: One complete pass through the entire training dataset.\\nDuring one epoch, every training sample is used exactly once to update the model's weights.\\n\\nBatch (or Mini-Batch): A small subset of the training data that is used in one iteration\\nto compute the gradient and update the model's weights. Using batches is more computationally\\nefficient than using the entire dataset at once (batch gradient descent) and provides a\\nmore stable gradient estimate than using one sample at a time (stochastic gradient descent).\\n\\nIteration: One training step where a single batch of data is processed.\\nIn each iteration:\\n1. A batch of data is fed forward through the model to get predictions.\\n2. The loss is calculated based on the predictions and the true labels for that batch.\\n3. The gradients of the loss with respect to the model's parameters are computed (backward pass).\\n4. The optimizer uses these gradients to update the model's parameters.\\n\\nThe number of iterations in one epoch is equal to `total_number_of_training_samples / batch_size`.\\n\""
            ]
          },
          "execution_count": 38,
          "metadata": {},
          "output_type": "execute_result"
        }
      ],
      "source": [
        "\"\"\"\n",
        "Understanding Training Concepts: Epoch, Batch, and Iteration\n",
        "\n",
        "Epoch: One complete pass through the entire training dataset.\n",
        "During one epoch, every training sample is used exactly once to update the model's weights.\n",
        "\n",
        "Batch (or Mini-Batch): A small subset of the training data that is used in one iteration\n",
        "to compute the gradient and update the model's weights. Using batches is more computationally\n",
        "efficient than using the entire dataset at once (batch gradient descent) and provides a\n",
        "more stable gradient estimate than using one sample at a time (stochastic gradient descent).\n",
        "\n",
        "Iteration: One training step where a single batch of data is processed.\n",
        "In each iteration:\n",
        "1. A batch of data is fed forward through the model to get predictions.\n",
        "2. The loss is calculated based on the predictions and the true labels for that batch.\n",
        "3. The gradients of the loss with respect to the model's parameters are computed (backward pass).\n",
        "4. The optimizer uses these gradients to update the model's parameters.\n",
        "\n",
        "The number of iterations in one epoch is equal to `total_number_of_training_samples / batch_size`.\n",
        "\"\"\""
      ]
    },
    {
      "cell_type": "code",
      "execution_count": null,
      "metadata": {
        "colab": {
          "base_uri": "https://localhost:8080/"
        },
        "id": "CcbFMejtZeyH",
        "outputId": "1783e790-4555-41f2-f85b-21f3e7e74e14"
      },
      "outputs": [
        {
          "name": "stdout",
          "output_type": "stream",
          "text": [
            "--2025-07-18 09:39:16--  https://archive.ics.uci.edu/static/public/109/wine.zip\n",
            "Resolving archive.ics.uci.edu (archive.ics.uci.edu)... 128.195.10.252\n",
            "Connecting to archive.ics.uci.edu (archive.ics.uci.edu)|128.195.10.252|:443... connected.\n",
            "HTTP request sent, awaiting response... 200 OK\n",
            "Length: unspecified\n",
            "Saving to: ‘wine.zip’\n",
            "\n",
            "wine.zip                [ <=>                ]   5.90K  --.-KB/s    in 0s      \n",
            "\n",
            "2025-07-18 09:39:17 (108 MB/s) - ‘wine.zip’ saved [6038]\n",
            "\n"
          ]
        }
      ],
      "source": [
        "!wget https://archive.ics.uci.edu/static/public/109/wine.zip"
      ]
    },
    {
      "cell_type": "code",
      "execution_count": null,
      "metadata": {
        "colab": {
          "base_uri": "https://localhost:8080/"
        },
        "id": "Qpf7jS2KZi4J",
        "outputId": "4da04811-011a-423d-9ef9-71aab8bebd97"
      },
      "outputs": [
        {
          "name": "stdout",
          "output_type": "stream",
          "text": [
            "Archive:  wine.zip\n",
            "  inflating: Index                   \n",
            "  inflating: wine.data               \n",
            "  inflating: wine.names              \n"
          ]
        }
      ],
      "source": [
        "!unzip wine.zip"
      ]
    },
    {
      "cell_type": "code",
      "execution_count": null,
      "metadata": {
        "colab": {
          "base_uri": "https://localhost:8080/"
        },
        "id": "doOTNN_OZ12Z",
        "outputId": "9b2b0258-85ee-463e-d7b5-f76bb4cfbb60"
      },
      "outputs": [
        {
          "name": "stdout",
          "output_type": "stream",
          "text": [
            "1. Title of Database: Wine recognition data\n",
            "\tUpdated Sept 21, 1998 by C.Blake : Added attribute information\n",
            "\n",
            "2. Sources:\n",
            "   (a) Forina, M. et al, PARVUS - An Extendible Package for Data\n",
            "       Exploration, Classification and Correlation. Institute of Pharmaceutical\n",
            "       and Food Analysis and Technologies, Via Brigata Salerno, \n",
            "       16147 Genoa, Italy.\n",
            "\n",
            "   (b) Stefan Aeberhard, email: stefan@coral.cs.jcu.edu.au\n",
            "   (c) July 1991\n",
            "3. Past Usage:\n",
            "\n",
            "   (1)\n",
            "   S. Aeberhard, D. Coomans and O. de Vel,\n",
            "   Comparison of Classifiers in High Dimensional Settings,\n",
            "   Tech. Rep. no. 92-02, (1992), Dept. of Computer Science and Dept. of\n",
            "   Mathematics and Statistics, James Cook University of North Queensland.\n",
            "   (Also submitted to Technometrics).\n",
            "\n",
            "   The data was used with many others for comparing various \n",
            "   classifiers. The classes are separable, though only RDA \n",
            "   has achieved 100% correct classification.\n",
            "   (RDA : 100%, QDA 99.4%, LDA 98.9%, 1NN 96.1% (z-transformed data))\n",
            "   (All results using the leave-one-out technique)\n",
            "\n",
            "   In a classification context, this is a well posed problem \n",
            "   with \"well behaved\" class structures. A good data set \n",
            "   for first testing of a new classifier, but not very \n",
            "   challenging.\n",
            "\n",
            "   (2) \n",
            "   S. Aeberhard, D. Coomans and O. de Vel,\n",
            "   \"THE CLASSIFICATION PERFORMANCE OF RDA\"\n",
            "   Tech. Rep. no. 92-01, (1992), Dept. of Computer Science and Dept. of\n",
            "   Mathematics and Statistics, James Cook University of North Queensland.\n",
            "   (Also submitted to Journal of Chemometrics).\n",
            "\n",
            "   Here, the data was used to illustrate the superior performance of\n",
            "   the use of a new appreciation function with RDA. \n",
            "\n",
            "4. Relevant Information:\n",
            "\n",
            "   -- These data are the results of a chemical analysis of\n",
            "      wines grown in the same region in Italy but derived from three\n",
            "      different cultivars.\n",
            "      The analysis determined the quantities of 13 constituents\n",
            "      found in each of the three types of wines. \n",
            "\n",
            "   -- I think that the initial data set had around 30 variables, but \n",
            "      for some reason I only have the 13 dimensional version. \n",
            "      I had a list of what the 30 or so variables were, but a.) \n",
            "      I lost it, and b.), I would not know which 13 variables\n",
            "      are included in the set.\n",
            "\n",
            "   -- The attributes are (dontated by Riccardo Leardi, \n",
            "\triclea@anchem.unige.it )\n",
            " \t1) Alcohol\n",
            " \t2) Malic acid\n",
            " \t3) Ash\n",
            "\t4) Alcalinity of ash  \n",
            " \t5) Magnesium\n",
            "\t6) Total phenols\n",
            " \t7) Flavanoids\n",
            " \t8) Nonflavanoid phenols\n",
            " \t9) Proanthocyanins\n",
            "\t10)Color intensity\n",
            " \t11)Hue\n",
            " \t12)OD280/OD315 of diluted wines\n",
            " \t13)Proline            \n",
            "\n",
            "5. Number of Instances\n",
            "\n",
            "      \tclass 1 59\n",
            "\tclass 2 71\n",
            "\tclass 3 48\n",
            "\n",
            "6. Number of Attributes \n",
            "\t\n",
            "\t13\n",
            "\n",
            "7. For Each Attribute:\n",
            "\n",
            "\tAll attributes are continuous\n",
            "\t\n",
            "\tNo statistics available, but suggest to standardise\n",
            "\tvariables for certain uses (e.g. for us with classifiers\n",
            "\twhich are NOT scale invariant)\n",
            "\n",
            "\tNOTE: 1st attribute is class identifier (1-3)\n",
            "\n",
            "8. Missing Attribute Values:\n",
            "\n",
            "\tNone\n",
            "\n",
            "9. Class Distribution: number of instances per class\n",
            "\n",
            "      \tclass 1 59\n",
            "\tclass 2 71\n",
            "\tclass 3 48\n",
            "\n"
          ]
        }
      ],
      "source": [
        "with open(\"/content/wine.names\") as f:\n",
        "  print(f.read())"
      ]
    },
    {
      "cell_type": "code",
      "execution_count": null,
      "metadata": {
        "id": "wGThLFZiapAt"
      },
      "outputs": [],
      "source": [
        "import pandas as pd\n",
        "wine_attributes = [\n",
        "    \"Class\", # Added the Class column\n",
        "    \"Alcohol\",\n",
        "    \"Malic acid\",\n",
        "    \"Ash\",\n",
        "    \"Alcalinity of ash\",\n",
        "    \"Magnesium\",\n",
        "    \"Total phenols\",\n",
        "    \"Flavanoids\",\n",
        "    \"Nonflavanoid phenols\",\n",
        "    \"Proanthocyanins\",\n",
        "    \"Color intensity\",\n",
        "    \"Hue\",\n",
        "    \"OD280/OD315 of diluted wines\",\n",
        "    \"Proline\"\n",
        "]\n",
        "data = pd.read_csv(\"/content/wine.data\" , header = None , sep = ',')\n",
        "data.columns = wine_attributes # Uncommented to set column names\n",
        "data = np.array(data) # Convert DataFrame to NumPy array immediately after loading"
      ]
    },
    {
      "cell_type": "code",
      "execution_count": null,
      "metadata": {
        "id": "FMB3OFXDuLr8"
      },
      "outputs": [],
      "source": [
        "# Removed the data.describe() line as data is now a NumPy array\n",
        "# If you need descriptive statistics for the NumPy array, use NumPy functions like np.mean(), np.std(), etc."
      ]
    },
    {
      "cell_type": "code",
      "execution_count": null,
      "metadata": {
        "colab": {
          "base_uri": "https://localhost:8080/"
        },
        "id": "4f7b985f",
        "outputId": "efa210e9-ae31-4914-8d33-b40e5a64cad4"
      },
      "outputs": [
        {
          "name": "stdout",
          "output_type": "stream",
          "text": [
            "First data sample: tensor([1.4230e+01, 1.7100e+00, 2.4300e+00, 1.5600e+01, 1.2700e+02, 2.8000e+00,\n",
            "        3.0600e+00, 2.8000e-01, 2.2900e+00, 5.6400e+00, 1.0400e+00, 3.9200e+00,\n",
            "        1.0650e+03]), its label: tensor([1])\n",
            "178 45\n",
            "epoch 1/10 , step 5/45 , inputs torch.Size([4, 13])\n",
            "epoch 1/10 , step 10/45 , inputs torch.Size([4, 13])\n",
            "epoch 1/10 , step 15/45 , inputs torch.Size([4, 13])\n",
            "epoch 1/10 , step 20/45 , inputs torch.Size([4, 13])\n",
            "epoch 1/10 , step 25/45 , inputs torch.Size([4, 13])\n",
            "epoch 1/10 , step 30/45 , inputs torch.Size([4, 13])\n",
            "epoch 1/10 , step 35/45 , inputs torch.Size([4, 13])\n",
            "epoch 1/10 , step 40/45 , inputs torch.Size([4, 13])\n",
            "epoch 1/10 , step 45/45 , inputs torch.Size([2, 13])\n",
            "epoch 2/10 , step 5/45 , inputs torch.Size([4, 13])\n",
            "epoch 2/10 , step 10/45 , inputs torch.Size([4, 13])\n",
            "epoch 2/10 , step 15/45 , inputs torch.Size([4, 13])\n",
            "epoch 2/10 , step 20/45 , inputs torch.Size([4, 13])\n",
            "epoch 2/10 , step 25/45 , inputs torch.Size([4, 13])\n",
            "epoch 2/10 , step 30/45 , inputs torch.Size([4, 13])\n",
            "epoch 2/10 , step 35/45 , inputs torch.Size([4, 13])\n",
            "epoch 2/10 , step 40/45 , inputs torch.Size([4, 13])\n",
            "epoch 2/10 , step 45/45 , inputs torch.Size([2, 13])\n",
            "epoch 3/10 , step 5/45 , inputs torch.Size([4, 13])\n",
            "epoch 3/10 , step 10/45 , inputs torch.Size([4, 13])\n",
            "epoch 3/10 , step 15/45 , inputs torch.Size([4, 13])\n",
            "epoch 3/10 , step 20/45 , inputs torch.Size([4, 13])\n",
            "epoch 3/10 , step 25/45 , inputs torch.Size([4, 13])\n",
            "epoch 3/10 , step 30/45 , inputs torch.Size([4, 13])\n",
            "epoch 3/10 , step 35/45 , inputs torch.Size([4, 13])\n",
            "epoch 3/10 , step 40/45 , inputs torch.Size([4, 13])\n",
            "epoch 3/10 , step 45/45 , inputs torch.Size([2, 13])\n",
            "epoch 4/10 , step 5/45 , inputs torch.Size([4, 13])\n",
            "epoch 4/10 , step 10/45 , inputs torch.Size([4, 13])\n",
            "epoch 4/10 , step 15/45 , inputs torch.Size([4, 13])\n",
            "epoch 4/10 , step 20/45 , inputs torch.Size([4, 13])\n",
            "epoch 4/10 , step 25/45 , inputs torch.Size([4, 13])\n",
            "epoch 4/10 , step 30/45 , inputs torch.Size([4, 13])\n",
            "epoch 4/10 , step 35/45 , inputs torch.Size([4, 13])\n",
            "epoch 4/10 , step 40/45 , inputs torch.Size([4, 13])\n",
            "epoch 4/10 , step 45/45 , inputs torch.Size([2, 13])\n",
            "epoch 5/10 , step 5/45 , inputs torch.Size([4, 13])\n",
            "epoch 5/10 , step 10/45 , inputs torch.Size([4, 13])\n",
            "epoch 5/10 , step 15/45 , inputs torch.Size([4, 13])\n",
            "epoch 5/10 , step 20/45 , inputs torch.Size([4, 13])\n",
            "epoch 5/10 , step 25/45 , inputs torch.Size([4, 13])\n",
            "epoch 5/10 , step 30/45 , inputs torch.Size([4, 13])\n",
            "epoch 5/10 , step 35/45 , inputs torch.Size([4, 13])\n",
            "epoch 5/10 , step 40/45 , inputs torch.Size([4, 13])\n",
            "epoch 5/10 , step 45/45 , inputs torch.Size([2, 13])\n",
            "epoch 6/10 , step 5/45 , inputs torch.Size([4, 13])\n",
            "epoch 6/10 , step 10/45 , inputs torch.Size([4, 13])\n",
            "epoch 6/10 , step 15/45 , inputs torch.Size([4, 13])\n",
            "epoch 6/10 , step 20/45 , inputs torch.Size([4, 13])\n",
            "epoch 6/10 , step 25/45 , inputs torch.Size([4, 13])\n",
            "epoch 6/10 , step 30/45 , inputs torch.Size([4, 13])\n",
            "epoch 6/10 , step 35/45 , inputs torch.Size([4, 13])\n",
            "epoch 6/10 , step 40/45 , inputs torch.Size([4, 13])\n",
            "epoch 6/10 , step 45/45 , inputs torch.Size([2, 13])\n",
            "epoch 7/10 , step 5/45 , inputs torch.Size([4, 13])\n",
            "epoch 7/10 , step 10/45 , inputs torch.Size([4, 13])\n",
            "epoch 7/10 , step 15/45 , inputs torch.Size([4, 13])\n",
            "epoch 7/10 , step 20/45 , inputs torch.Size([4, 13])\n",
            "epoch 7/10 , step 25/45 , inputs torch.Size([4, 13])\n",
            "epoch 7/10 , step 30/45 , inputs torch.Size([4, 13])\n",
            "epoch 7/10 , step 35/45 , inputs torch.Size([4, 13])\n",
            "epoch 7/10 , step 40/45 , inputs torch.Size([4, 13])\n",
            "epoch 7/10 , step 45/45 , inputs torch.Size([2, 13])\n",
            "epoch 8/10 , step 5/45 , inputs torch.Size([4, 13])\n",
            "epoch 8/10 , step 10/45 , inputs torch.Size([4, 13])\n",
            "epoch 8/10 , step 15/45 , inputs torch.Size([4, 13])\n",
            "epoch 8/10 , step 20/45 , inputs torch.Size([4, 13])\n",
            "epoch 8/10 , step 25/45 , inputs torch.Size([4, 13])\n",
            "epoch 8/10 , step 30/45 , inputs torch.Size([4, 13])\n",
            "epoch 8/10 , step 35/45 , inputs torch.Size([4, 13])\n",
            "epoch 8/10 , step 40/45 , inputs torch.Size([4, 13])\n",
            "epoch 8/10 , step 45/45 , inputs torch.Size([2, 13])\n",
            "epoch 9/10 , step 5/45 , inputs torch.Size([4, 13])\n",
            "epoch 9/10 , step 10/45 , inputs torch.Size([4, 13])\n",
            "epoch 9/10 , step 15/45 , inputs torch.Size([4, 13])\n",
            "epoch 9/10 , step 20/45 , inputs torch.Size([4, 13])\n",
            "epoch 9/10 , step 25/45 , inputs torch.Size([4, 13])\n",
            "epoch 9/10 , step 30/45 , inputs torch.Size([4, 13])\n",
            "epoch 9/10 , step 35/45 , inputs torch.Size([4, 13])\n",
            "epoch 9/10 , step 40/45 , inputs torch.Size([4, 13])\n",
            "epoch 9/10 , step 45/45 , inputs torch.Size([2, 13])\n",
            "epoch 10/10 , step 5/45 , inputs torch.Size([4, 13])\n",
            "epoch 10/10 , step 10/45 , inputs torch.Size([4, 13])\n",
            "epoch 10/10 , step 15/45 , inputs torch.Size([4, 13])\n",
            "epoch 10/10 , step 20/45 , inputs torch.Size([4, 13])\n",
            "epoch 10/10 , step 25/45 , inputs torch.Size([4, 13])\n",
            "epoch 10/10 , step 30/45 , inputs torch.Size([4, 13])\n",
            "epoch 10/10 , step 35/45 , inputs torch.Size([4, 13])\n",
            "epoch 10/10 , step 40/45 , inputs torch.Size([4, 13])\n",
            "epoch 10/10 , step 45/45 , inputs torch.Size([2, 13])\n"
          ]
        }
      ],
      "source": [
        "import torch\n",
        "import torchvision\n",
        "from torch.utils.data import Dataset , DataLoader\n",
        "import numpy as np\n",
        "import math\n",
        "\n",
        "class WineDataset(Dataset):\n",
        "  def __init__(self):\n",
        "    # Assuming the first column is the Class (label) and the rest are features\n",
        "    self.x = torch.from_numpy(data[:,1:]).type(torch.float32) # Ensure float32 type\n",
        "    self.y = torch.from_numpy(data[:,[0]]).type(torch.long) # Ensure long type for classification label\n",
        "    self.n_samples = data.shape[0]\n",
        "\n",
        "  def __getitem__(self , index):\n",
        "    #dataset[0]\n",
        "    return self.x[index] , self.y[index]\n",
        "\n",
        "  def __len__(self):\n",
        "    #len(dataset)\n",
        "    return self.n_samples\n",
        "\n",
        "dataset = WineDataset()\n",
        "# First data sample and its corresponding label\n",
        "first_data, first_label = dataset[0]\n",
        "print(f\"First data sample: {first_data}, its label: {first_label}\")\n",
        "\n",
        "\n",
        "dataloader = DataLoader(dataset = dataset , batch_size = 4 , shuffle = True , num_workers = 2)\n",
        "\n",
        "\"\"\"# Get one batch of data from the DataLoader using the built-in next() function\n",
        "dataiter = iter(dataloader)\n",
        "features , labels = next(dataiter) # Changed from dataiter.next() to next(dataiter)\n",
        "print(f\"One batch of features: {features.shape}, labels: {labels.shape}\")\n",
        "print(features , labels)\"\"\"\n",
        "\n",
        "#Dummy Training Loop\n",
        "num_epoch = 10\n",
        "total_samples = len(dataset)\n",
        "n_iter = math.ceil(total_samples / 4)\n",
        "print(total_samples , n_iter)\n",
        "\n",
        "for epoch in range(num_epoch):\n",
        "  for i , (inputs , labels) in enumerate(dataloader):\n",
        "    if (i+1)%5 == 0:\n",
        "      print(f\"epoch {epoch+1}/{num_epoch} , step {i+1}/{n_iter} , inputs {inputs.shape}\")"
      ]
    },
    {
      "cell_type": "markdown",
      "metadata": {
        "id": "Yk-1l-mqynga"
      },
      "source": [
        "# ***Data Transforms***"
      ]
    },
    {
      "cell_type": "code",
      "execution_count": null,
      "metadata": {
        "id": "6cGyctyrytjv"
      },
      "outputs": [],
      "source": [
        "import torch\n",
        "import torchvision"
      ]
    },
    {
      "cell_type": "code",
      "execution_count": null,
      "metadata": {
        "id": "6dbae18d"
      },
      "outputs": [],
      "source": [
        "# PyTorch provides a variety of transforms to preprocess data for training.\n",
        "# These transforms can be applied to the input data (features) and/or the target labels.\n",
        "\n",
        "# Common Transforms for Images:\n",
        "# - Resize: Resize the image to a specified size.\n",
        "#   - Input: PIL Image, Tensor Image\n",
        "#   - Output: PIL Image, Tensor Image\n",
        "# - RandomCrop: Crop a random portion of the image.\n",
        "#   - Input: PIL Image, Tensor Image\n",
        "#   - Output: PIL Image, Tensor Image\n",
        "# - CenterCrop: Crop the center portion of the image.\n",
        "#   - Input: PIL Image, Tensor Image\n",
        "#   - Output: PIL Image, Tensor Image\n",
        "# - RandomHorizontalFlip: Randomly flip the image horizontally.\n",
        "#   - Input: PIL Image, Tensor Image\n",
        "#   - Output: PIL Image, Tensor Image\n",
        "# - RandomVerticalFlip: Randomly flip the image vertically.\n",
        "#   - Input: PIL Image, Tensor Image\n",
        "#   - Output: PIL Image, Tensor Image\n",
        "# - ToTensor: Convert a PIL Image or NumPy array to a PyTorch Tensor.\n",
        "#   - Input: PIL Image, numpy.ndarray\n",
        "#   - Output: torch.Tensor\n",
        "# - Normalize: Normalize a tensor image with mean and standard deviation.\n",
        "#   - Input: torch.Tensor\n",
        "#   - Output: torch.Tensor\n",
        "# - Compose: Compose multiple transforms together.\n",
        "#   - Input: Varies depending on the first transform in the sequence\n",
        "#   - Output: Varies depending on the last transform in the sequence\n",
        "\n",
        "# Common Transforms for other data types (e.g., text, audio):\n",
        "# - These transforms are often more dataset-specific and might involve:\n",
        "# - Tokenization: Breaking down text into words or sub-word units.\n",
        "#   - Input: String\n",
        "#   - Output: List of strings or tokens\n",
        "# - Numericalization: Converting tokens into numerical representations.\n",
        "#   - Input: List of strings or tokens\n",
        "#   - Output: List or Tensor of integers (indices)\n",
        "# - Padding: Adding padding to sequences to make them of equal length.\n",
        "#   - Input: List or Tensor\n",
        "#   - Output: Tensor\n",
        "# - Feature scaling: Standardizing or normalizing numerical features.\n",
        "#   - Input: numpy.ndarray or torch.Tensor\n",
        "#   - Output: numpy.ndarray or torch.Tensor\n",
        "\n",
        "# Custom Transforms:\n",
        "# - You can also create your own custom transforms by defining a class\n",
        "#   that implements the __call__ method. This method takes the data as input\n",
        "#   and returns the transformed data.\n",
        "#   - Input: Varies depending on the custom transform\n",
        "#   - Output: Varies depending on the custom transform"
      ]
    },
    {
      "cell_type": "code",
      "execution_count": null,
      "metadata": {
        "colab": {
          "base_uri": "https://localhost:8080/"
        },
        "id": "gUyfze066PaY",
        "outputId": "68ead800-e80f-46de-b351-1d626cedf9d6"
      },
      "outputs": [
        {
          "name": "stdout",
          "output_type": "stream",
          "text": [
            "tensor([  19.2300,    6.7100,    7.4300,   20.6000,  132.0000,    7.8000,\n",
            "           8.0600,    5.2800,    7.2900,   10.6400,    6.0400,    8.9200,\n",
            "        1070.0000], dtype=torch.float64) tensor([1.], dtype=torch.float64)\n"
          ]
        }
      ],
      "source": [
        "class WineDataset(Dataset):\n",
        "  def __init__(self , transform = None):\n",
        "    # Assuming the first column is the Class (label) and the rest are features\n",
        "    self.x = data[:,1:]\n",
        "    self.y = data[:,[0]]  #only np arrays\n",
        "    self.n_samples = data.shape[0]\n",
        "\n",
        "\n",
        "    self.transform = transform\n",
        "\n",
        "  def __getitem__(self , index):\n",
        "    #dataset[0]\n",
        "    samples =  self.x[index] , self.y[index]\n",
        "    if self.transform:\n",
        "      return self.transform(samples)\n",
        "    return samples\n",
        "\n",
        "  def __len__(self):\n",
        "    #len(dataset)\n",
        "    return self.n_samples\n",
        "\n",
        "#Custom Transforms\n",
        "\n",
        "class toTensor:\n",
        "  def __call__(self , samples):\n",
        "    input , target = samples\n",
        "    return torch.from_numpy(input) , torch.from_numpy(target)\n",
        "\n",
        "class addTransform:\n",
        "  def __init__(self , number):\n",
        "    self.number = number\n",
        "\n",
        "  def __call__(self , samples):\n",
        "    inputs , target = samples\n",
        "    inputs += self.number\n",
        "    return inputs , target\n",
        "\n",
        "\n",
        "#for calling multiple transform we will use\n",
        "#torchvision.transform.Composed([list of transforms])\n",
        "composed = torchvision.transforms.Compose([toTensor() , addTransform(5)])\n",
        "dataset = WineDataset(transform = composed)\n",
        "first_data , first_label = dataset[0]\n",
        "print(first_data , first_label)\n"
      ]
    },
    {
      "cell_type": "markdown",
      "metadata": {
        "id": "B_7meQ6uw0uN"
      },
      "source": [
        "# ***SoftMax and CrossEntropy loss***"
      ]
    },
    {
      "cell_type": "code",
      "execution_count": null,
      "metadata": {
        "colab": {
          "base_uri": "https://localhost:8080/"
        },
        "id": "BxxHWAq3w8f0",
        "outputId": "44c67c5e-c7c9-4f37-cc00-fec08ada2c57"
      },
      "outputs": [
        {
          "name": "stdout",
          "output_type": "stream",
          "text": [
            "Softmax Outputs : [0.65900114 0.24243297 0.09856589]\n",
            "Softmax Outputs : tensor([0.6590, 0.2424, 0.0986])\n"
          ]
        }
      ],
      "source": [
        "#Softmax activation\n",
        "#S(x) = e^x / summation of e^x --- Give multiple probabilities\n",
        "\n",
        "def softmax(x):\n",
        "  return np.exp(x) / np.sum(np.exp(x) , axis = 0)\n",
        "\n",
        "x = np.array([2.0 , 1.0 , 0.1])\n",
        "outputs = softmax(x)\n",
        "print(f\"Softmax Outputs : {outputs}\")\n",
        "\n",
        "x = torch.tensor([2.0 , 1.0 , 0.1])\n",
        "outputs = torch.softmax(x , dim = 0)\n",
        "print(f\"Softmax Outputs : {outputs}\")"
      ]
    },
    {
      "cell_type": "code",
      "execution_count": null,
      "metadata": {
        "colab": {
          "base_uri": "https://localhost:8080/"
        },
        "id": "H5-b4Tg9x1us",
        "outputId": "4e722a26-7a5a-435b-d835-00bbf436d36c"
      },
      "outputs": [
        {
          "name": "stdout",
          "output_type": "stream",
          "text": [
            "Loss 1 : 0.3567\n",
            "Loss 2 : 2.3026\n",
            "Loss 1 : 0.4170299470424652\n",
            "Loss 2 : 2.3170299530029297\n",
            "Loss 3 : 0.14350222051143646\n",
            "Loss 4 : 7.12270975112915\n",
            "tensor([0])\n",
            "tensor([2])\n",
            "tensor([0, 1, 2])\n",
            "tensor([2, 0, 1])\n"
          ]
        }
      ],
      "source": [
        "#Cross Entropy Loss\n",
        "# D(y_pred , y) = -1/N sum(y . log(y_pred))\n",
        "\n",
        "def cross_entropy(predicted , actual):\n",
        "  loss = -np.sum(actual * np.log(predicted))\n",
        "  return loss #/  [predicted.shape[0]]\n",
        "\n",
        "y = np.array([1 , 0 , 0])  #one hot encoded\n",
        "\n",
        "\n",
        "\n",
        "y_pred_good = np.array([0.7 , 0.2 , 0.1])\n",
        "y_pred_bad = np.array([0.1 , 0.3 , 0.6])\n",
        "l1 = cross_entropy(y_pred_good , y)\n",
        "l2 = cross_entropy(y_pred_bad , y)\n",
        "print(f\"Loss 1 : {l1:.4f}\")\n",
        "print(f\"Loss 2 : {l2:.4f}\")\n",
        "\n",
        "\n",
        "\n",
        "#In tensor\n",
        "#when we us this function we are required to not to use any softmax at last layer\n",
        "#and also we do not need to give in one ot encoded format\n",
        "\n",
        "loss = nn.CrossEntropyLoss()\n",
        "y = torch.tensor([0]) #only class 0\n",
        "#we can also do for multiple samples\n",
        "y_ = torch.tensor([0 , 1 , 2])\n",
        "#n_sample x n_classes = 3x1\n",
        "y_pred_good = torch.tensor([[2.0 , 1.0 , 0.1]])\n",
        "y_pred_bad = torch.tensor([[0.1 , 1.0 , 2.0]])\n",
        "y_pred_good_ = torch.tensor([[2.0 , 1.0 , 0.1] , [0 , 5 , 0] , [0 , 0 , 10]])\n",
        "y_pred_bad_ = torch.tensor([[0.1 , 0.2 , 0.7] , [10 , 0 , 0] , [0 , 10 , 0]])\n",
        "\n",
        "\n",
        "l1 = loss(y_pred_good , y)\n",
        "l2 = loss(y_pred_bad , y)\n",
        "print(f\"Loss 1 : {l1.item()}\")\n",
        "print(f\"Loss 2 : {l2.item()}\")\n",
        "\n",
        "l3 = loss(y_pred_good_ , y_)\n",
        "l4 = loss(y_pred_bad_ , y_)\n",
        "print(f\"Loss 3 : {l3.item()}\")\n",
        "print(f\"Loss 4 : {l4.item()}\")\n",
        "\n",
        "_ ,prediction1 = torch.max(y_pred_good , 1)\n",
        "\n",
        "_ ,prediction12 = torch.max(y_pred_bad , 1)\n",
        "\n",
        "_ , prediction2 = torch.max(y_pred_good_ , 1)\n",
        "\n",
        "_ , prediction3 = torch.max(y_pred_bad_ , 1)\n",
        "\n",
        "print(prediction1)\n",
        "print(prediction12)\n",
        "\n",
        "print(prediction2)\n",
        "print(prediction3)"
      ]
    },
    {
      "cell_type": "markdown",
      "metadata": {
        "id": "lmyI1Jq177MA"
      },
      "source": [
        "# ***Activation Functions***"
      ]
    },
    {
      "cell_type": "code",
      "execution_count": null,
      "metadata": {
        "id": "Kp-X5XfG5OjF"
      },
      "outputs": [],
      "source": [
        "import torch\n",
        "import torch.nn as nn\n",
        "import torch.nn.functional as F\n",
        "\n",
        "#option 1 (create nn module)\n",
        "class NeuralNet(nn.Module):\n",
        "  def __init__(self , input_size , hidden_size):\n",
        "    super(NeuralNet , self).__init__()\n",
        "    self.linear1 = nn.Linear(input_size , hidden_size)\n",
        "    self.relu = nn.ReLU()\n",
        "    self.linear2 =nn.Linear(hidden_size , 1)\n",
        "    \"\"\"nn.Sigmoid()\n",
        "    nn.Tanh()\n",
        "    nn.LeakyReLU()\n",
        "\"\"\"\n",
        "  def forward(self , x):\n",
        "    out = self.linear1(x)\n",
        "    out = self.relu(out)\n",
        "    out = self.linear2(out)\n",
        "    #sigmoid at the end\n",
        "    y_pred = torch.sigmoid(out)\n",
        "    return y_pred\n",
        "\n",
        "#option 2 (use activation functions directly in forward pass)\n",
        "class NeuralNet(nn.Module):\n",
        "  def __init__(self , input_size , hidden_size):\n",
        "    super(NeuralNet , self).__init__()\n",
        "    self.linear1 = nn.Linear(input_size , hidden_size)\n",
        "    self.linear2 =nn.Linear(hidden_size , 1)\n",
        "    \"\"\"\n",
        "    torch.relu()\n",
        "    torch.tanh\"\"\"\n",
        "\n",
        "  def forward(self , x):\n",
        "    out = torch.relu(self.linear1(x))\n",
        "    out = torch.sigmoid(self.linear2(out))\n",
        "    return out"
      ]
    },
    {
      "cell_type": "markdown",
      "metadata": {
        "id": "9abK5IxKAWFJ"
      },
      "source": [
        "# ***Feed Forward Neural network***"
      ]
    },
    {
      "cell_type": "code",
      "execution_count": null,
      "metadata": {
        "colab": {
          "base_uri": "https://localhost:8080/"
        },
        "id": "YTdr2P3cAcDy",
        "outputId": "d25377be-d339-49be-f1f3-cd62c128eaef"
      },
      "outputs": [
        {
          "name": "stderr",
          "output_type": "stream",
          "text": [
            "100%|██████████| 9.91M/9.91M [00:02<00:00, 4.87MB/s]\n",
            "100%|██████████| 28.9k/28.9k [00:00<00:00, 133kB/s]\n",
            "100%|██████████| 1.65M/1.65M [00:06<00:00, 241kB/s]\n",
            "100%|██████████| 4.54k/4.54k [00:00<00:00, 8.29MB/s]"
          ]
        },
        {
          "name": "stdout",
          "output_type": "stream",
          "text": [
            "torch.Size([100, 1, 28, 28]) torch.Size([100])\n"
          ]
        },
        {
          "name": "stderr",
          "output_type": "stream",
          "text": [
            "\n"
          ]
        }
      ],
      "source": [
        "#MNIST Dataset\n",
        "#DalaLoader and Transformation\n",
        "#Multilayer neural net , activation function\n",
        "#loss and optimzers\n",
        "#training loop (batch training)\n",
        "#model evaluation\n",
        "#gpu support\n",
        "\n",
        "import torch\n",
        "import torch.nn as nn\n",
        "import torchvision\n",
        "import torchvision.transforms as transforms\n",
        "import matplotlib.pyplot as plt\n",
        "\n",
        "#device config\n",
        "if torch.cuda.is_available():\n",
        "  device = torch.device('cuda')\n",
        "else:\n",
        "  device = torch.device('cpu')\n",
        "\n",
        "#hyperParameters\n",
        "\n",
        "input_size = 784  #28x28\n",
        "hidden_size = 100\n",
        "num_class = 10\n",
        "epochs = 2\n",
        "batch_size = 100\n",
        "lr = 0.001\n",
        "\n",
        "#MNIST\n",
        "\n",
        "dataset = torchvision.datasets.MNIST(root = './data' , train = True ,\n",
        "                                    transform = transforms.ToTensor() , download = True\n",
        "                                    )\n",
        "test_data = torchvision.datasets.MNIST(root = './data' , train = False ,\n",
        "                                    transform = transforms.ToTensor() , download = False\n",
        "                                    )\n",
        "train_loader = torch.utils.data.DataLoader(dataset = dataset , batch_size = batch_size , shuffle = True)\n",
        "test_loader = torch.utils.data.DataLoader(dataset = test_data , batch_size = batch_size , shuffle = True)\n",
        "\n",
        "examples = iter(train_loader)\n",
        "samples , labels = next(examples)\n",
        "print(samples.shape , labels.shape)"
      ]
    },
    {
      "cell_type": "code",
      "execution_count": null,
      "metadata": {
        "colab": {
          "base_uri": "https://localhost:8080/",
          "height": 1000
        },
        "id": "WYy0CT_Nbc4u",
        "outputId": "e9671693-11cd-4a56-b149-026c3a885210"
      },
      "outputs": [
        {
          "data": {
            "image/png": "[encoded data removed]",
            "text/plain": [
              "<Figure size 640x480 with 1 Axes>"
            ]
          },
          "metadata": {},
          "output_type": "display_data"
        },
        {
          "data": {
            "image/png": "[encoded data removed]",
            "text/plain": [
              "<Figure size 640x480 with 1 Axes>"
            ]
          },
          "metadata": {},
          "output_type": "display_data"
        },
        {
          "data": {
            "image/png": "[encoded data removed]",
            "text/plain": [
              "<Figure size 640x480 with 1 Axes>"
            ]
          },
          "metadata": {},
          "output_type": "display_data"
        },
        {
          "data": {
            "image/png": "[encoded data removed]",
            "text/plain": [
              "<Figure size 640x480 with 1 Axes>"
            ]
          },
          "metadata": {},
          "output_type": "display_data"
        },
        {
          "data": {
            "image/png": "[encoded data removed]",
            "text/plain": [
              "<Figure size 640x480 with 1 Axes>"
            ]
          },
          "metadata": {},
          "output_type": "display_data"
        },
        {
          "data": {
            "image/png": "[encoded data removed]",
            "text/plain": [
              "<Figure size 640x480 with 1 Axes>"
            ]
          },
          "metadata": {},
          "output_type": "display_data"
        }
      ],
      "source": [
        "for i in range(6):\n",
        "  plt.subplot(2,3,i+1)\n",
        "  plt.imshow(samples[i][0] , cmap = 'gray')\n",
        "  plt.show()"
      ]
    },
    {
      "cell_type": "code",
      "execution_count": null,
      "metadata": {
        "id": "fv6TwJQpbspc"
      },
      "outputs": [],
      "source": [
        "class NeuralNet(nn.Module):\n",
        "  def __init__(self , input_size , hidden_size , num_class):\n",
        "    super(NeuralNet , self).__init__()\n",
        "    self.l1 = nn.Linear(input_size , hidden_size)\n",
        "    self.relu = nn.ReLU()\n",
        "    self.l2 = nn.Linear(hidden_size , num_class)\n",
        "\n",
        "  def forward(self , x):\n",
        "    out = self.l1(x)\n",
        "    out = self.relu(out)\n",
        "    out = self.l2(out)\n",
        "    return out"
      ]
    },
    {
      "cell_type": "code",
      "execution_count": null,
      "metadata": {
        "colab": {
          "base_uri": "https://localhost:8080/"
        },
        "id": "a0C3zxMKcZI1",
        "outputId": "2e5fdd3b-3748-4a98-ae7d-a889f65843c9"
      },
      "outputs": [
        {
          "name": "stdout",
          "output_type": "stream",
          "text": [
            "Epoch [1/2], Step [100/600], Loss: 0.5023\n",
            "Epoch [1/2], Step [200/600], Loss: 0.3962\n",
            "Epoch [1/2], Step [300/600], Loss: 0.3046\n",
            "Epoch [1/2], Step [400/600], Loss: 0.1791\n",
            "Epoch [1/2], Step [500/600], Loss: 0.3375\n",
            "Epoch [1/2], Step [600/600], Loss: 0.2199\n",
            "Epoch [2/2], Step [100/600], Loss: 0.2059\n",
            "Epoch [2/2], Step [200/600], Loss: 0.2132\n",
            "Epoch [2/2], Step [300/600], Loss: 0.2431\n",
            "Epoch [2/2], Step [400/600], Loss: 0.1335\n",
            "Epoch [2/2], Step [500/600], Loss: 0.1321\n",
            "Epoch [2/2], Step [600/600], Loss: 0.2631\n",
            "Accuracy = 95.37\n"
          ]
        }
      ],
      "source": [
        "model = NeuralNet(input_size , hidden_size , num_class).to(device)\n",
        "\n",
        "#loss and optimizer\n",
        "criterion = nn.CrossEntropyLoss()\n",
        "optim = torch.optim.Adam(model.parameters() , lr = lr)\n",
        "\n",
        "#training loop\n",
        "n_total_steps = len(train_loader)\n",
        "for epoch in range(epochs):\n",
        "  for i , (image , labels) in enumerate(train_loader):\n",
        "    #100,1,28,28\n",
        "    #needing - 100 , 784\n",
        "    image = image.reshape(-1,28*28).to(device)\n",
        "    labels = labels.to(device)\n",
        "\n",
        "    #FP\n",
        "    output = model(image)\n",
        "    loss = criterion(output , labels)\n",
        "\n",
        "    #BP\n",
        "    optim.zero_grad()\n",
        "    loss.backward()\n",
        "    optim.step()\n",
        "\n",
        "    if (i+1) % 100 == 0:\n",
        "      print(f'Epoch [{epoch+1}/{epochs}], Step [{i+1}/{n_total_steps}], Loss: {loss.item():.4f}')\n",
        "\n",
        "\n",
        "#testing and evaluation\n",
        "with torch.no_grad():\n",
        "  n_correct = 0\n",
        "  n_samples = 0\n",
        "  for images , labels in test_loader:\n",
        "    images = images.reshape(-1,28*28).to(device)\n",
        "    labels = labels.to(device)\n",
        "    output = model(images)\n",
        "    _, predict = torch.max(output , 1)\n",
        "    n_samples += labels.shape[0]\n",
        "    n_correct += (predict == labels).sum().item()\n",
        "\n",
        "  acc = 100.0 * n_correct / n_samples\n",
        "  print(f'Accuracy = {acc}')"
      ]
    },
    {
      "cell_type": "markdown",
      "metadata": {
        "id": "KdnwBfgJgpH4"
      },
      "source": [
        "# ***Convolutional Neural Network (CNN)***"
      ]
    },
    {
      "cell_type": "code",
      "execution_count": null,
      "metadata": {
        "id": "24a93244"
      },
      "outputs": [],
      "source": [
        "# Convolutional Neural Networks (CNNs)\n",
        "\n",
        "# What is a CNN?\n",
        "# A Convolutional Neural Network (CNN) is a type of artificial neural network specifically designed\n",
        "# for processing structured grid data, such as images, where patterns are spatially related.\n",
        "# They are highly effective in tasks like image classification, object detection, and image segmentation.\n",
        "\n",
        "# Key Components of a CNN:\n",
        "# 1. Convolutional Layer: This layer applies convolutional filters (kernels) to the input data\n",
        "#    to detect features like edges, corners, and textures. Each filter slides over the input,\n",
        "#    performing element-wise multiplications and summing the results to create a feature map.\n",
        "#    Multiple filters are typically used to extract various features.\n",
        "\n",
        "# 2. Activation Function: Applied after the convolutional layer (or sometimes other layers)\n",
        "#    to introduce non-linearity into the model. Common activation functions include ReLU (Rectified Linear Unit),\n",
        "#    Sigmoid, and Tanh. ReLU is widely used due to its simplicity and effectiveness in preventing vanishing gradients.\n",
        "\n",
        "# 3. Pooling Layer (or Downsampling Layer): This layer reduces the spatial dimensions (width and height)\n",
        "#    of the feature maps, which helps to decrease the computational cost, reduce overfitting, and\n",
        "#    make the network more robust to small variations in the input. Common pooling methods are\n",
        "#    Max Pooling and Average Pooling.\n",
        "\n",
        "# 4. Fully Connected Layer (Dense Layer): After several convolutional and pooling layers, the\n",
        "#    flattened feature maps are connected to one or more fully connected layers. These layers\n",
        "#    perform high-level reasoning based on the features extracted by the previous layers.\n",
        "\n",
        "# 5. Output Layer: The final fully connected layer, which outputs the prediction. For classification\n",
        "#    tasks, this layer often uses a Softmax activation function to output class probabilities.\n",
        "\n",
        "# How CNNs work in PyTorch:\n",
        "\n",
        "# PyTorch provides the `torch.nn` module to build neural networks, including CNNs.\n",
        "\n",
        "# Convolutional Layers:\n",
        "# - `torch.nn.Conv2d`: Used for 2D convolutions, typically for images.\n",
        "#   - Parameters include `in_channels` (number of input channels, e.g., 3 for RGB images),\n",
        "#     `out_channels` (number of output channels/filters), `kernel_size` (size of the convolutional filter),\n",
        "#     `stride` (step size of the filter), and `padding` (padding added to the input).\n",
        "\n",
        "# Activation Functions:\n",
        "# - `torch.nn.ReLU()`, `torch.nn.Sigmoid()`, `torch.nn.Tanh()`, etc.\n",
        "# - These can be added as separate layers or used directly as functions (`F.relu()`, `F.sigmoid()`, etc.)\n",
        "#   from `torch.nn.functional`.\n",
        "\n",
        "# Pooling Layers:\n",
        "# - `torch.nn.MaxPool2d()`: Used for 2D max pooling.\n",
        "#   - Parameters include `kernel_size` and `stride`.\n",
        "# - `torch.nn.AvgPool2d()`: Used for 2D average pooling.\n",
        "\n",
        "# Fully Connected Layers:\n",
        "# - `torch.nn.Linear()`: Used for linear transformations (the core of fully connected layers).\n",
        "#   - Parameters include `in_features` and `out_features`.\n",
        "\n",
        "# Building a CNN in PyTorch:\n",
        "# - You typically define a class that inherits from `torch.nn.Module`.\n",
        "# - In the `__init__` method, you define the layers (Conv2d, ReLU, MaxPool2d, Linear, etc.).\n",
        "# - In the `forward` method, you define the forward pass, specifying how data flows through the layers.\n",
        "#   You apply the layers and activation functions in the desired order.\n",
        "#   Remember to flatten the output of the convolutional/pooling layers before feeding it into the fully connected layers (often using `.view()` or `.flatten()`).\n",
        "\n",
        "# Example structure in PyTorch:\n",
        "# class SimpleCNN(nn.Module):\n",
        "#     def __init__(self):\n",
        "#         super(SimpleCNN, self).__init__()\n",
        "#         self.conv1 = nn.Conv2d(in_channels=3, out_channels=16, kernel_size=3, stride=1, padding=1)\n",
        "#         self.relu = nn.ReLU()\n",
        "#         self.pool = nn.MaxPool2d(kernel_size=2, stride=2)\n",
        "#         self.fc = nn.Linear(16 * ...) # Calculate the correct input size based on pooling\n",
        "#         self.output = nn.Linear(..., num_classes)\n",
        "\n",
        "#     def forward(self, x):\n",
        "#         out = self.conv1(x)\n",
        "#         out = self.relu(out)\n",
        "#         out = self.pool(out)\n",
        "#         # Flatten the output for the fully connected layer\n",
        "#         out = out.view(out.size(0), -1)\n",
        "#         out = self.fc(out)\n",
        "#         out = self.output(out) # Apply softmax if needed for multi-class classification\n",
        "#         return out\n",
        "\n",
        "# Loss Function and Optimizer:\n",
        "# - Similar to other neural networks, you choose an appropriate loss function\n",
        "#   (e.g., `nn.CrossEntropyLoss` for multi-class classification) and an optimizer\n",
        "#   (e.g., `optim.Adam`, `optim.SGD`) to train the CNN.\n",
        "\n",
        "# Training Loop:\n",
        "# - The training loop involves iterating through the data in batches, performing\n",
        "#   the forward pass, calculating the loss, performing the backward pass\n",
        "#   (gradient calculation), and updating the weights using the optimizer."
      ]
    },
    {
      "cell_type": "code",
      "execution_count": null,
      "metadata": {
        "colab": {
          "base_uri": "https://localhost:8080/"
        },
        "id": "QRg0xwSuhVBR",
        "outputId": "0b2fc995-97f8-41f0-dd86-c668948593fd"
      },
      "outputs": [
        {
          "name": "stderr",
          "output_type": "stream",
          "text": [
            "100%|██████████| 170M/170M [00:13<00:00, 12.9MB/s]\n"
          ]
        }
      ],
      "source": [
        "#CIFAR - 10 dataset\n",
        "import torch\n",
        "import torch.nn as nn\n",
        "import torchvision\n",
        "import torch.nn.functional as F\n",
        "import torchvision.transforms as transforms\n",
        "import matplotlib.pyplot as plt\n",
        "import numpy as np\n",
        "\n",
        "#device config\n",
        "if torch.cuda.is_available():\n",
        "  device = torch.device('cuda')\n",
        "else:\n",
        "  device = torch.device('cpu')\n",
        "\n",
        "#hyperParameters\n",
        "\n",
        "epochs = 20\n",
        "batch_size = 4\n",
        "lr = 0.001\n",
        "\n",
        "#CIFAR - 10\n",
        "transform = transforms.Compose(\n",
        "    [transforms.ToTensor(),\n",
        "     transforms.Normalize((0.5, 0.5, 0.5), (0.5, 0.5, 0.5))])\n",
        "dataset = torchvision.datasets.CIFAR10(root = './data' , train = True ,\n",
        "                                    transform = transform , download = True\n",
        "                                    )\n",
        "test_data = torchvision.datasets.CIFAR10(root = './data' , train = False ,\n",
        "                                    transform = transform , download = False\n",
        "                                    )\n",
        "train_loader = torch.utils.data.DataLoader(dataset = dataset , batch_size = batch_size , shuffle = True)\n",
        "test_loader = torch.utils.data.DataLoader(dataset = test_data , batch_size = batch_size , shuffle = True)"
      ]
    },
    {
      "cell_type": "code",
      "execution_count": null,
      "metadata": {
        "id": "b96FgiQbjQFd"
      },
      "outputs": [],
      "source": [
        "classes = ('plane' , 'car' , 'bird' , 'cat' , 'deer' , 'dog' , 'frog' , 'horse' , 'ship' , 'truck')\n",
        "\n",
        "# Define a simple Convolutional Neural Network\n",
        "class ConvNet(nn.Module):\n",
        "  def __init__(self):\n",
        "    super(ConvNet , self).__init__()\n",
        "    # First convolutional layer: 3 input channels (RGB), 6 output channels, 5x5 kernel\n",
        "    self.l1 = nn.Conv2d(3 , 6 , 5)\n",
        "    # Max pooling layer: 2x2 window, stride of 2\n",
        "    self.pool = nn.MaxPool2d(2 , 2)\n",
        "    # Second convolutional layer: 6 input channels (from previous layer), 16 output channels, 5x5 kernel\n",
        "    self.l2 = nn.Conv2d(6 , 16 , 5)\n",
        "    # First fully connected layer: 16*5*5 input features (flattened output from conv/pool), 120 output features\n",
        "    self.fc1 = nn.Linear(16*5*5 , 120)\n",
        "    # Second fully connected layer: 120 input features, 84 output features\n",
        "    self.fc2 = nn.Linear(120 , 84)\n",
        "    # Output fully connected layer: 84 input features, 10 output features (number of classes)\n",
        "    self.fc3 = nn.Linear(84 , 10)\n",
        "\n",
        "  def forward(self , x):\n",
        "    x = self.pool(F.relu(self.l1(x)))\n",
        "    x = self.pool(F.relu(self.l2(x)))\n",
        "    x = x.view(-1 , 16*5*5)\n",
        "    x = F.relu(self.fc1(x))\n",
        "    x = F.relu(self.fc2(x))\n",
        "    x = self.fc3(x)\n",
        "    return x\n",
        "\n",
        "model = ConvNet().to(device)\n"
      ]
    },
    {
      "cell_type": "code",
      "execution_count": null,
      "metadata": {
        "colab": {
          "base_uri": "https://localhost:8080/"
        },
        "id": "v6tZeGGZjfkG",
        "outputId": "427ba0b9-32ec-48dc-8a5e-076b75cefdd4"
      },
      "outputs": [
        {
          "name": "stdout",
          "output_type": "stream",
          "text": [
            "Epoch [1/20], Step [10000/12500], Loss: 1.9317\n",
            "Epoch [2/20], Step [10000/12500], Loss: 1.3138\n",
            "Epoch [3/20], Step [10000/12500], Loss: 0.9152\n",
            "Epoch [4/20], Step [10000/12500], Loss: 0.8227\n",
            "Epoch [5/20], Step [10000/12500], Loss: 1.1025\n",
            "Epoch [6/20], Step [10000/12500], Loss: 1.4542\n",
            "Epoch [7/20], Step [10000/12500], Loss: 1.1655\n",
            "Epoch [8/20], Step [10000/12500], Loss: 0.9894\n",
            "Epoch [9/20], Step [10000/12500], Loss: 0.4498\n",
            "Epoch [10/20], Step [10000/12500], Loss: 1.0457\n",
            "Epoch [11/20], Step [10000/12500], Loss: 0.3506\n",
            "Epoch [12/20], Step [10000/12500], Loss: 0.4363\n",
            "Epoch [13/20], Step [10000/12500], Loss: 1.3679\n",
            "Epoch [14/20], Step [10000/12500], Loss: 0.4172\n",
            "Epoch [15/20], Step [10000/12500], Loss: 1.2105\n",
            "Epoch [16/20], Step [10000/12500], Loss: 1.0806\n",
            "Epoch [17/20], Step [10000/12500], Loss: 0.9577\n",
            "Epoch [18/20], Step [10000/12500], Loss: 0.5992\n",
            "Epoch [19/20], Step [10000/12500], Loss: 0.2295\n",
            "Epoch [20/20], Step [10000/12500], Loss: 1.3925\n",
            "Accuracy = 61.78\n",
            "Accuracy of plane : 71.0\n",
            "Accuracy of car : 73.6\n",
            "Accuracy of bird : 43.1\n",
            "Accuracy of cat : 53.2\n",
            "Accuracy of deer : 58.1\n",
            "Accuracy of dog : 49.4\n",
            "Accuracy of frog : 68.2\n",
            "Accuracy of horse : 65.9\n",
            "Accuracy of ship : 68.0\n",
            "Accuracy of truck : 67.3\n"
          ]
        }
      ],
      "source": [
        "#loss and optimizer\n",
        "criterion = nn.CrossEntropyLoss()\n",
        "optim = torch.optim.Adam(model.parameters() , lr = lr)\n",
        "\n",
        "#training loop\n",
        "n_total_steps = len(train_loader)\n",
        "for epoch in range(epochs):\n",
        "  for i , (image , labels) in enumerate(train_loader):\n",
        "\n",
        "    image = image.to(device)\n",
        "    labels = labels.to(device)\n",
        "\n",
        "    #FP\n",
        "    output = model(image)\n",
        "    loss = criterion(output , labels)\n",
        "\n",
        "    #BP\n",
        "    optim.zero_grad()\n",
        "    loss.backward()\n",
        "    optim.step()\n",
        "\n",
        "    if (i+1) % 10000 == 0:\n",
        "      print(f'Epoch [{epoch+1}/{epochs}], Step [{i+1}/{n_total_steps}], Loss: {loss.item():.4f}')\n",
        "\n",
        "\n",
        "#testing and evaluation\n",
        "with torch.no_grad():\n",
        "  n_correct = 0\n",
        "  n_samples = 0\n",
        "  n_class_correct = [0 for i in range(10)]\n",
        "  n_class_samples = [0 for i in range(10)]\n",
        "  for images , labels in test_loader:\n",
        "    images = images.to(device)\n",
        "    labels = labels.to(device)\n",
        "    output = model(images)\n",
        "    _, predict = torch.max(output , 1)\n",
        "    n_samples += labels.shape[0]\n",
        "    n_correct += (predict == labels).sum().item()\n",
        "\n",
        "    for i in range(batch_size):\n",
        "      label = labels[i]\n",
        "      pred = predict[i]\n",
        "      n_class_correct[label] = n_class_correct[label]+1 if (label == pred) else n_class_correct[label]\n",
        "      n_class_samples[label] = n_class_samples[label]+1\n",
        "\n",
        "  acc = 100.0 * n_correct / n_samples\n",
        "  print(f'Accuracy = {acc}')\n",
        "\n",
        "  for i in range(10):\n",
        "    acc = 100.0 * n_class_correct[i] / n_class_samples[i]\n",
        "    print(f'Accuracy of {classes[i]} : {acc}')\n"
      ]
    },
    {
      "cell_type": "markdown",
      "metadata": {
        "id": "bRVShDzdeiDe"
      },
      "source": [
        "# ***Transfer Learning***"
      ]
    },
    {
      "cell_type": "code",
      "execution_count": null,
      "metadata": {
        "id": "30f4a881"
      },
      "outputs": [],
      "source": [
        "# Transfer Learning: Reusing a pre-trained model on a new task.\n",
        "# Instead of training a deep learning model from scratch on a new dataset,\n",
        "# which requires a large amount of data and computational resources,\n",
        "# transfer learning leverages a model that has already been trained on a\n",
        "# similar, large dataset (e.g., ImageNet).\n",
        "# The idea is that the pre-trained model has already learned to extract\n",
        "# useful features (like edges, textures, shapes) from the data.\n",
        "# These learned features can then be transferred and adapted to the new task.\n",
        "# This is particularly useful when the new dataset is small, as it prevents\n",
        "# overfitting and speeds up training.\n",
        "# Common approaches include:\n",
        "# 1. Feature Extraction: Using the pre-trained model as a fixed feature extractor\n",
        "#    and training a new classifier on top of the extracted features.\n",
        "# 2. Fine-tuning: Unfreezing some or all layers of the pre-trained model\n",
        "#    and training them along with the new classifier on the new dataset,\n",
        "#    usually with a smaller learning rate."
      ]
    },
    {
      "cell_type": "code",
      "execution_count": 2,
      "metadata": {
        "colab": {
          "base_uri": "https://localhost:8080/"
        },
        "id": "gDHDi5-ie9YV",
        "outputId": "91f36808-3e17-4279-d1f6-3a21c38e9cc0"
      },
      "outputs": [
        {
          "name": "stdout",
          "output_type": "stream",
          "text": [
            "Downloading from https://www.kaggle.com/api/v1/datasets/download/utkarshsaxenadn/car-vs-bike-classification-dataset?dataset_version_number=1...\n"
          ]
        },
        {
          "name": "stderr",
          "output_type": "stream",
          "text": [
            "100%|██████████| 103M/103M [00:00<00:00, 150MB/s]"
          ]
        },
        {
          "name": "stdout",
          "output_type": "stream",
          "text": [
            "Extracting files...\n"
          ]
        },
        {
          "name": "stderr",
          "output_type": "stream",
          "text": [
            "\n"
          ]
        },
        {
          "name": "stdout",
          "output_type": "stream",
          "text": [
            "Path to dataset files: /root/.cache/kagglehub/datasets/utkarshsaxenadn/car-vs-bike-classification-dataset/versions/1\n"
          ]
        }
      ],
      "source": [
        "#We will use PreTrainined ResNet image Classifier which\n",
        "#is trained on millions od data\n",
        "\n",
        "#Image Folder\n",
        "#Schedulers\n",
        "#transfer Learning\n",
        "\n",
        "\n",
        "#Download the Car and Bike dataset\n",
        "import kagglehub\n",
        "\n",
        "# Download latest version\n",
        "path = kagglehub.dataset_download(\"utkarshsaxenadn/car-vs-bike-classification-dataset\")\n",
        "\n",
        "print(\"Path to dataset files:\", path)\n",
        "import os\n",
        "path = (os.path.join(path , \"Car-Bike-Dataset\"))"
      ]
    },
    {
      "cell_type": "code",
      "execution_count": 3,
      "metadata": {
        "colab": {
          "base_uri": "https://localhost:8080/"
        },
        "id": "rVVHc7zzhAv6",
        "outputId": "35ace6a5-0488-4d46-926b-9fddf5ddd401"
      },
      "outputs": [
        {
          "name": "stdout",
          "output_type": "stream",
          "text": [
            "cuda\n"
          ]
        }
      ],
      "source": [
        "import torch\n",
        "import torchvision\n",
        "import torch.nn as nn\n",
        "import torch.optim as optim\n",
        "import numpy as np\n",
        "import matplotlib.pyplot as plt\n",
        "import time\n",
        "import os\n",
        "import copy\n",
        "from torch.optim import lr_scheduler\n",
        "from torchvision import datasets, models , transforms\n",
        "device = \"cuda\" if torch.cuda.is_available() else \"cpu\"\n",
        "print(device)"
      ]
    },
    {
      "cell_type": "code",
      "execution_count": 4,
      "metadata": {
        "colab": {
          "base_uri": "https://localhost:8080/"
        },
        "id": "5mPAIROqiFAC",
        "outputId": "67723aa7-a498-4649-85c5-3c5f0b43ad8c"
      },
      "outputs": [
        {
          "name": "stdout",
          "output_type": "stream",
          "text": [
            " training Size : 3200 , Validation Size : 800\n",
            "Classes in Dataset : ['Bike', 'Car'] \n"
          ]
        },
        {
          "name": "stderr",
          "output_type": "stream",
          "text": [
            "/usr/local/lib/python3.11/dist-packages/torch/utils/data/dataloader.py:624: UserWarning: This DataLoader will create 4 worker processes in total. Our suggested max number of worker in current system is 2, which is smaller than what this DataLoader is going to create. Please be aware that excessive worker creation might get DataLoader running slow or even freeze, lower the worker number to avoid potential slowness/freeze if necessary.\n",
            "  warnings.warn(\n"
          ]
        }
      ],
      "source": [
        "mean = np.array([0.485 , 0.456 , 0.406])\n",
        "std = np.array([0.229 , 0.224 , 0.225])\n",
        "transform = transforms.Compose([transforms.ToTensor() , transforms.Normalize(mean , std) , transforms.RandomHorizontalFlip() , transforms.RandomVerticalFlip() , transforms.RandomRotation(90) , transforms.RandomResizedCrop(224)])\n",
        "\n",
        "dataset = datasets.ImageFolder(path, transform=transform )\n",
        "train , val = torch.utils.data.random_split(dataset , [int(0.8*len(dataset)) , len(dataset)-int(0.8*len(dataset))])\n",
        "\n",
        "print(f\" training Size : {len(train)} , Validation Size : {len(val)}\")\n",
        "print(f\"Classes in Dataset : {dataset.classes} \")\n",
        "train_dataloader = torch.utils.data.DataLoader(train , batch_size = 20 , shuffle = True , num_workers = 4)\n",
        "val_dataloader = torch.utils.data.DataLoader(val, batch_size = 20, shuffle = True , num_workers = 4)"
      ]
    },
    {
      "cell_type": "code",
      "execution_count": 5,
      "metadata": {
        "id": "SbZnJdz4-MxX"
      },
      "outputs": [],
      "source": [
        "def train_model(model, criterion, optimizer, scheduler, num_epochs=25):\n",
        "    since = time.time()\n",
        "\n",
        "    best_model_wts = copy.deepcopy(model.state_dict())\n",
        "    best_acc = 0.0\n",
        "\n",
        "    for epoch in range(num_epochs):\n",
        "        print('Epoch {}/{}'.format(epoch, num_epochs - 1))\n",
        "        print('-' * 10)\n",
        "\n",
        "        for phase in ['train' , 'val']:\n",
        "            model.train() if phase == 'train' else model.eval()\n",
        "            running_loss = 0.0\n",
        "            running_corrects = 0\n",
        "            total_samples = 0 # Keep track of total samples processed in the phase\n",
        "\n",
        "            dataloader = train_dataloader if phase == 'train' else val_dataloader\n",
        "            dataset_size = len(train) if phase == 'train' else len(val) # Use correct dataset size for averaging\n",
        "\n",
        "            for inputs , labels in dataloader:\n",
        "                inputs = inputs.to(device)\n",
        "                labels = labels.to(device)\n",
        "\n",
        "                with torch.set_grad_enabled(phase == 'train'):\n",
        "                    outputs = model(inputs)\n",
        "                    _, preds = torch.max(outputs , 1)\n",
        "                    loss = criterion(outputs , labels)\n",
        "\n",
        "                    if phase == 'train':\n",
        "                        optimizer.zero_grad()\n",
        "                        loss.backward()\n",
        "                        optimizer.step()\n",
        "\n",
        "                running_loss += loss.item() * inputs.size(0)\n",
        "                running_corrects += torch.sum(preds == labels.data)\n",
        "                total_samples += inputs.size(0) # Accumulate total samples\n",
        "\n",
        "            if phase == 'train':\n",
        "                scheduler.step()\n",
        "\n",
        "            epoch_loss = running_loss / dataset_size # Calculate loss over the entire phase\n",
        "            epoch_acc = running_corrects.double() / dataset_size # Calculate accuracy over the entire phase\n",
        "\n",
        "            print('{} Loss: {:.4f} Acc: {:.4f}'.format(\n",
        "                phase, epoch_loss, epoch_acc))\n",
        "            if phase == 'val' and epoch_acc > best_acc:\n",
        "                best_acc = epoch_acc\n",
        "                best_model_wts = copy.deepcopy(model.state_dict())\n",
        "\n",
        "        print()\n",
        "\n",
        "    time_elapsed = time.time() - since\n",
        "    print('Training complete in {:.0f}m {:.0f}s'.format(\n",
        "        time_elapsed // 60, time_elapsed % 60))\n",
        "    print('Best val Acc: {:4f}'.format(best_acc))\n",
        "\n",
        "    model.load_state_dict(best_model_wts)\n",
        "\n",
        "    return model"
      ]
    },
    {
      "cell_type": "code",
      "execution_count": 6,
      "metadata": {
        "colab": {
          "base_uri": "https://localhost:8080/"
        },
        "id": "F4PJDd0c4D6Z",
        "outputId": "a0065b4b-4a96-4475-d519-9dc3787f919b"
      },
      "outputs": [
        {
          "name": "stderr",
          "output_type": "stream",
          "text": [
            "/usr/local/lib/python3.11/dist-packages/torchvision/models/_utils.py:208: UserWarning: The parameter 'pretrained' is deprecated since 0.13 and may be removed in the future, please use 'weights' instead.\n",
            "  warnings.warn(\n",
            "/usr/local/lib/python3.11/dist-packages/torchvision/models/_utils.py:223: UserWarning: Arguments other than a weight enum or `None` for 'weights' are deprecated since 0.13 and may be removed in the future. The current behavior is equivalent to passing `weights=ResNet18_Weights.IMAGENET1K_V1`. You can also use `weights=ResNet18_Weights.DEFAULT` to get the most up-to-date weights.\n",
            "  warnings.warn(msg)\n",
            "Downloading: \"https://download.pytorch.org/models/resnet18-f37072fd.pth\" to /root/.cache/torch/hub/checkpoints/resnet18-f37072fd.pth\n",
            "100%|██████████| 44.7M/44.7M [00:00<00:00, 188MB/s]\n"
          ]
        },
        {
          "name": "stdout",
          "output_type": "stream",
          "text": [
            "Epoch 0/4\n",
            "----------\n"
          ]
        },
        {
          "name": "stderr",
          "output_type": "stream",
          "text": [
            "/usr/local/lib/python3.11/dist-packages/PIL/Image.py:1047: UserWarning: Palette images with Transparency expressed in bytes should be converted to RGBA images\n",
            "  warnings.warn(\n",
            "/usr/local/lib/python3.11/dist-packages/PIL/Image.py:1047: UserWarning: Palette images with Transparency expressed in bytes should be converted to RGBA images\n",
            "  warnings.warn(\n",
            "/usr/local/lib/python3.11/dist-packages/PIL/Image.py:1047: UserWarning: Palette images with Transparency expressed in bytes should be converted to RGBA images\n",
            "  warnings.warn(\n"
          ]
        },
        {
          "name": "stdout",
          "output_type": "stream",
          "text": [
            "train Loss: 0.3783 Acc: 0.8306\n",
            "val Loss: 0.2508 Acc: 0.9025\n",
            "\n",
            "Epoch 1/4\n",
            "----------\n"
          ]
        },
        {
          "name": "stderr",
          "output_type": "stream",
          "text": [
            "/usr/local/lib/python3.11/dist-packages/PIL/Image.py:1047: UserWarning: Palette images with Transparency expressed in bytes should be converted to RGBA images\n",
            "  warnings.warn(\n",
            "/usr/local/lib/python3.11/dist-packages/PIL/Image.py:1047: UserWarning: Palette images with Transparency expressed in bytes should be converted to RGBA images\n",
            "  warnings.warn(\n"
          ]
        },
        {
          "name": "stdout",
          "output_type": "stream",
          "text": [
            "train Loss: 0.2775 Acc: 0.8872\n",
            "val Loss: 0.2297 Acc: 0.9075\n",
            "\n",
            "Epoch 2/4\n",
            "----------\n"
          ]
        },
        {
          "name": "stderr",
          "output_type": "stream",
          "text": [
            "/usr/local/lib/python3.11/dist-packages/PIL/Image.py:1047: UserWarning: Palette images with Transparency expressed in bytes should be converted to RGBA images\n",
            "  warnings.warn(\n",
            "/usr/local/lib/python3.11/dist-packages/PIL/Image.py:1047: UserWarning: Palette images with Transparency expressed in bytes should be converted to RGBA images\n",
            "  warnings.warn(\n",
            "/usr/local/lib/python3.11/dist-packages/PIL/Image.py:1047: UserWarning: Palette images with Transparency expressed in bytes should be converted to RGBA images\n",
            "  warnings.warn(\n",
            "/usr/local/lib/python3.11/dist-packages/PIL/Image.py:1047: UserWarning: Palette images with Transparency expressed in bytes should be converted to RGBA images\n",
            "  warnings.warn(\n"
          ]
        },
        {
          "name": "stdout",
          "output_type": "stream",
          "text": [
            "train Loss: 0.2939 Acc: 0.8697\n",
            "val Loss: 0.1923 Acc: 0.9213\n",
            "\n",
            "Epoch 3/4\n",
            "----------\n"
          ]
        },
        {
          "name": "stderr",
          "output_type": "stream",
          "text": [
            "/usr/local/lib/python3.11/dist-packages/PIL/Image.py:1047: UserWarning: Palette images with Transparency expressed in bytes should be converted to RGBA images\n",
            "  warnings.warn(\n",
            "/usr/local/lib/python3.11/dist-packages/PIL/Image.py:1047: UserWarning: Palette images with Transparency expressed in bytes should be converted to RGBA images\n",
            "  warnings.warn(\n",
            "/usr/local/lib/python3.11/dist-packages/PIL/Image.py:1047: UserWarning: Palette images with Transparency expressed in bytes should be converted to RGBA images\n",
            "  warnings.warn(\n"
          ]
        },
        {
          "name": "stdout",
          "output_type": "stream",
          "text": [
            "train Loss: 0.2527 Acc: 0.8909\n",
            "val Loss: 0.2247 Acc: 0.8950\n",
            "\n",
            "Epoch 4/4\n",
            "----------\n"
          ]
        },
        {
          "name": "stderr",
          "output_type": "stream",
          "text": [
            "/usr/local/lib/python3.11/dist-packages/PIL/Image.py:1047: UserWarning: Palette images with Transparency expressed in bytes should be converted to RGBA images\n",
            "  warnings.warn(\n",
            "/usr/local/lib/python3.11/dist-packages/PIL/Image.py:1047: UserWarning: Palette images with Transparency expressed in bytes should be converted to RGBA images\n",
            "  warnings.warn(\n",
            "/usr/local/lib/python3.11/dist-packages/PIL/Image.py:1047: UserWarning: Palette images with Transparency expressed in bytes should be converted to RGBA images\n",
            "  warnings.warn(\n"
          ]
        },
        {
          "name": "stdout",
          "output_type": "stream",
          "text": [
            "train Loss: 0.2818 Acc: 0.8712\n",
            "val Loss: 0.2176 Acc: 0.9062\n",
            "\n",
            "Training complete in 6m 18s\n",
            "Best val Acc: 0.921250\n"
          ]
        }
      ],
      "source": [
        "#Fine Tunning\n",
        "model = models.resnet18(pretrained = True)\n",
        "for param in model.parameters():\n",
        "  param.requires_grad = False  #freezing all layers\n",
        "num_features = model.fc.in_features\n",
        "model.fc = nn.Linear(num_features , 2)\n",
        "model = model.to(device)\n",
        "\n",
        "criterion = nn.CrossEntropyLoss()\n",
        "optimizer = optim.SGD(model.parameters() , lr = 0.001 , momentum = 0.9)\n",
        "\n",
        "\n",
        "#scheduler  -- update learning rate\n",
        "step_lr_scheduler = lr_scheduler.StepLR(optimizer , step_size = 7 , gamma = 0.1)\n",
        "\n",
        "model = train_model(model , criterion , optimizer , step_lr_scheduler , num_epochs = 5).to(device)\n",
        "\n"
      ]
    }
  ],
  "metadata": {
    "accelerator": "GPU",
    "colab": {
      "gpuType": "T4",
      "provenance": []
    },
    "kernelspec": {
      "display_name": "Python 3",
      "name": "python3"
    },
    "language_info": {
      "name": "python"
    }
  },
  "nbformat": 4,
  "nbformat_minor": 0
}
